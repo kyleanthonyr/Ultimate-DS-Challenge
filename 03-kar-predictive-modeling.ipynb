{
 "cells": [
  {
   "cell_type": "markdown",
   "metadata": {},
   "source": [
    "# 3. Predictive Modeling\n",
    "\n",
    "Ultimate is interested in predicting **rider retention**. To help explore this question, we have provided a sample dataset of a cohort of users who signed up for an Ultimate account in January 2014. The data was pulled several months later; we consider a user retained if they were “active” (i.e. took a trip) in the preceding 30 days. \n",
    "\n",
    "We would like you to use this data set to help understand what factors are the best predictors for retention, and offer suggestions to operationalize those insights to help Ultimate.\n",
    "\n",
    "The data is in the attached file `ultimate_data_challenge.json`. \n",
    "\n",
    "1. Perform any cleaning, exploratory analysis, and/or visualizations to use the provided\n",
    "data for this analysis (a few sentences/plots describing your approach will suffice). What fraction of the observed users were retained?\n",
    "2. Build a predictive model to help Ultimate determine whether or not a user will be active in their 6th month on the system. Discuss why you chose your approach, what alternatives you considered, and any concerns you have. How valid is your model? Include any key indicators of model performance.\n",
    "3. Briefly discuss how Ultimate might leverage the insights gained from the model to\n",
    "improve its long term rider retention (again, a few sentences will suffice).\n"
   ]
  },
  {
   "cell_type": "code",
   "execution_count": 366,
   "metadata": {},
   "outputs": [],
   "source": [
    "import pandas as pd\n",
    "import numpy as np\n",
    "import matplotlib.pyplot as plt\n",
    "import seaborn as sns\n",
    "\n",
    "from sklearn.model_selection import train_test_split\n",
    "from sklearn.preprocessing import StandardScaler\n",
    "\n",
    "from pprint import pprint"
   ]
  },
  {
   "cell_type": "code",
   "execution_count": 367,
   "metadata": {},
   "outputs": [],
   "source": [
    "# import the data\n",
    "data = pd.read_json('./data/ultimate.json')"
   ]
  },
  {
   "cell_type": "code",
   "execution_count": 368,
   "metadata": {},
   "outputs": [
    {
     "data": {
      "text/html": [
       "<div>\n",
       "<style scoped>\n",
       "    .dataframe tbody tr th:only-of-type {\n",
       "        vertical-align: middle;\n",
       "    }\n",
       "\n",
       "    .dataframe tbody tr th {\n",
       "        vertical-align: top;\n",
       "    }\n",
       "\n",
       "    .dataframe thead th {\n",
       "        text-align: right;\n",
       "    }\n",
       "</style>\n",
       "<table border=\"1\" class=\"dataframe\">\n",
       "  <thead>\n",
       "    <tr style=\"text-align: right;\">\n",
       "      <th></th>\n",
       "      <th>city</th>\n",
       "      <th>trips_in_first_30_days</th>\n",
       "      <th>signup_date</th>\n",
       "      <th>avg_rating_of_driver</th>\n",
       "      <th>avg_surge</th>\n",
       "      <th>last_trip_date</th>\n",
       "      <th>phone</th>\n",
       "      <th>surge_pct</th>\n",
       "      <th>ultimate_black_user</th>\n",
       "      <th>weekday_pct</th>\n",
       "      <th>avg_dist</th>\n",
       "      <th>avg_rating_by_driver</th>\n",
       "    </tr>\n",
       "  </thead>\n",
       "  <tbody>\n",
       "    <tr>\n",
       "      <th>0</th>\n",
       "      <td>King's Landing</td>\n",
       "      <td>4</td>\n",
       "      <td>2014-01-25</td>\n",
       "      <td>4.7</td>\n",
       "      <td>1.10</td>\n",
       "      <td>2014-06-17</td>\n",
       "      <td>iPhone</td>\n",
       "      <td>15.4</td>\n",
       "      <td>True</td>\n",
       "      <td>46.2</td>\n",
       "      <td>3.67</td>\n",
       "      <td>5.0</td>\n",
       "    </tr>\n",
       "    <tr>\n",
       "      <th>1</th>\n",
       "      <td>Astapor</td>\n",
       "      <td>0</td>\n",
       "      <td>2014-01-29</td>\n",
       "      <td>5.0</td>\n",
       "      <td>1.00</td>\n",
       "      <td>2014-05-05</td>\n",
       "      <td>Android</td>\n",
       "      <td>0.0</td>\n",
       "      <td>False</td>\n",
       "      <td>50.0</td>\n",
       "      <td>8.26</td>\n",
       "      <td>5.0</td>\n",
       "    </tr>\n",
       "    <tr>\n",
       "      <th>2</th>\n",
       "      <td>Astapor</td>\n",
       "      <td>3</td>\n",
       "      <td>2014-01-06</td>\n",
       "      <td>4.3</td>\n",
       "      <td>1.00</td>\n",
       "      <td>2014-01-07</td>\n",
       "      <td>iPhone</td>\n",
       "      <td>0.0</td>\n",
       "      <td>False</td>\n",
       "      <td>100.0</td>\n",
       "      <td>0.77</td>\n",
       "      <td>5.0</td>\n",
       "    </tr>\n",
       "    <tr>\n",
       "      <th>3</th>\n",
       "      <td>King's Landing</td>\n",
       "      <td>9</td>\n",
       "      <td>2014-01-10</td>\n",
       "      <td>4.6</td>\n",
       "      <td>1.14</td>\n",
       "      <td>2014-06-29</td>\n",
       "      <td>iPhone</td>\n",
       "      <td>20.0</td>\n",
       "      <td>True</td>\n",
       "      <td>80.0</td>\n",
       "      <td>2.36</td>\n",
       "      <td>4.9</td>\n",
       "    </tr>\n",
       "    <tr>\n",
       "      <th>4</th>\n",
       "      <td>Winterfell</td>\n",
       "      <td>14</td>\n",
       "      <td>2014-01-27</td>\n",
       "      <td>4.4</td>\n",
       "      <td>1.19</td>\n",
       "      <td>2014-03-15</td>\n",
       "      <td>Android</td>\n",
       "      <td>11.8</td>\n",
       "      <td>False</td>\n",
       "      <td>82.4</td>\n",
       "      <td>3.13</td>\n",
       "      <td>4.9</td>\n",
       "    </tr>\n",
       "  </tbody>\n",
       "</table>\n",
       "</div>"
      ],
      "text/plain": [
       "             city  trips_in_first_30_days signup_date  avg_rating_of_driver  \\\n",
       "0  King's Landing                       4  2014-01-25                   4.7   \n",
       "1         Astapor                       0  2014-01-29                   5.0   \n",
       "2         Astapor                       3  2014-01-06                   4.3   \n",
       "3  King's Landing                       9  2014-01-10                   4.6   \n",
       "4      Winterfell                      14  2014-01-27                   4.4   \n",
       "\n",
       "   avg_surge last_trip_date    phone  surge_pct  ultimate_black_user  \\\n",
       "0       1.10     2014-06-17   iPhone       15.4                 True   \n",
       "1       1.00     2014-05-05  Android        0.0                False   \n",
       "2       1.00     2014-01-07   iPhone        0.0                False   \n",
       "3       1.14     2014-06-29   iPhone       20.0                 True   \n",
       "4       1.19     2014-03-15  Android       11.8                False   \n",
       "\n",
       "   weekday_pct  avg_dist  avg_rating_by_driver  \n",
       "0         46.2      3.67                   5.0  \n",
       "1         50.0      8.26                   5.0  \n",
       "2        100.0      0.77                   5.0  \n",
       "3         80.0      2.36                   4.9  \n",
       "4         82.4      3.13                   4.9  "
      ]
     },
     "execution_count": 368,
     "metadata": {},
     "output_type": "execute_result"
    }
   ],
   "source": [
    "data.head()"
   ]
  },
  {
   "cell_type": "code",
   "execution_count": 369,
   "metadata": {},
   "outputs": [
    {
     "name": "stdout",
     "output_type": "stream",
     "text": [
      "<class 'pandas.core.frame.DataFrame'>\n",
      "RangeIndex: 50000 entries, 0 to 49999\n",
      "Data columns (total 12 columns):\n",
      " #   Column                  Non-Null Count  Dtype  \n",
      "---  ------                  --------------  -----  \n",
      " 0   city                    50000 non-null  object \n",
      " 1   trips_in_first_30_days  50000 non-null  int64  \n",
      " 2   signup_date             50000 non-null  object \n",
      " 3   avg_rating_of_driver    41878 non-null  float64\n",
      " 4   avg_surge               50000 non-null  float64\n",
      " 5   last_trip_date          50000 non-null  object \n",
      " 6   phone                   49604 non-null  object \n",
      " 7   surge_pct               50000 non-null  float64\n",
      " 8   ultimate_black_user     50000 non-null  bool   \n",
      " 9   weekday_pct             50000 non-null  float64\n",
      " 10  avg_dist                50000 non-null  float64\n",
      " 11  avg_rating_by_driver    49799 non-null  float64\n",
      "dtypes: bool(1), float64(6), int64(1), object(4)\n",
      "memory usage: 4.2+ MB\n"
     ]
    }
   ],
   "source": [
    "# Get info about cols\n",
    "data.info()"
   ]
  },
  {
   "cell_type": "code",
   "execution_count": 370,
   "metadata": {},
   "outputs": [
    {
     "data": {
      "text/html": [
       "<div>\n",
       "<style scoped>\n",
       "    .dataframe tbody tr th:only-of-type {\n",
       "        vertical-align: middle;\n",
       "    }\n",
       "\n",
       "    .dataframe tbody tr th {\n",
       "        vertical-align: top;\n",
       "    }\n",
       "\n",
       "    .dataframe thead th {\n",
       "        text-align: right;\n",
       "    }\n",
       "</style>\n",
       "<table border=\"1\" class=\"dataframe\">\n",
       "  <thead>\n",
       "    <tr style=\"text-align: right;\">\n",
       "      <th></th>\n",
       "      <th>trips_in_first_30_days</th>\n",
       "      <th>avg_rating_of_driver</th>\n",
       "      <th>avg_surge</th>\n",
       "      <th>surge_pct</th>\n",
       "      <th>weekday_pct</th>\n",
       "      <th>avg_dist</th>\n",
       "      <th>avg_rating_by_driver</th>\n",
       "    </tr>\n",
       "  </thead>\n",
       "  <tbody>\n",
       "    <tr>\n",
       "      <th>count</th>\n",
       "      <td>50000.000000</td>\n",
       "      <td>41878.000000</td>\n",
       "      <td>50000.000000</td>\n",
       "      <td>50000.000000</td>\n",
       "      <td>50000.000000</td>\n",
       "      <td>50000.000000</td>\n",
       "      <td>49799.000000</td>\n",
       "    </tr>\n",
       "    <tr>\n",
       "      <th>mean</th>\n",
       "      <td>2.278200</td>\n",
       "      <td>4.601559</td>\n",
       "      <td>1.074764</td>\n",
       "      <td>8.849536</td>\n",
       "      <td>60.926084</td>\n",
       "      <td>5.796827</td>\n",
       "      <td>4.778158</td>\n",
       "    </tr>\n",
       "    <tr>\n",
       "      <th>std</th>\n",
       "      <td>3.792684</td>\n",
       "      <td>0.617338</td>\n",
       "      <td>0.222336</td>\n",
       "      <td>19.958811</td>\n",
       "      <td>37.081503</td>\n",
       "      <td>5.707357</td>\n",
       "      <td>0.446652</td>\n",
       "    </tr>\n",
       "    <tr>\n",
       "      <th>min</th>\n",
       "      <td>0.000000</td>\n",
       "      <td>1.000000</td>\n",
       "      <td>1.000000</td>\n",
       "      <td>0.000000</td>\n",
       "      <td>0.000000</td>\n",
       "      <td>0.000000</td>\n",
       "      <td>1.000000</td>\n",
       "    </tr>\n",
       "    <tr>\n",
       "      <th>25%</th>\n",
       "      <td>0.000000</td>\n",
       "      <td>4.300000</td>\n",
       "      <td>1.000000</td>\n",
       "      <td>0.000000</td>\n",
       "      <td>33.300000</td>\n",
       "      <td>2.420000</td>\n",
       "      <td>4.700000</td>\n",
       "    </tr>\n",
       "    <tr>\n",
       "      <th>50%</th>\n",
       "      <td>1.000000</td>\n",
       "      <td>4.900000</td>\n",
       "      <td>1.000000</td>\n",
       "      <td>0.000000</td>\n",
       "      <td>66.700000</td>\n",
       "      <td>3.880000</td>\n",
       "      <td>5.000000</td>\n",
       "    </tr>\n",
       "    <tr>\n",
       "      <th>75%</th>\n",
       "      <td>3.000000</td>\n",
       "      <td>5.000000</td>\n",
       "      <td>1.050000</td>\n",
       "      <td>8.600000</td>\n",
       "      <td>100.000000</td>\n",
       "      <td>6.940000</td>\n",
       "      <td>5.000000</td>\n",
       "    </tr>\n",
       "    <tr>\n",
       "      <th>max</th>\n",
       "      <td>125.000000</td>\n",
       "      <td>5.000000</td>\n",
       "      <td>8.000000</td>\n",
       "      <td>100.000000</td>\n",
       "      <td>100.000000</td>\n",
       "      <td>160.960000</td>\n",
       "      <td>5.000000</td>\n",
       "    </tr>\n",
       "  </tbody>\n",
       "</table>\n",
       "</div>"
      ],
      "text/plain": [
       "       trips_in_first_30_days  avg_rating_of_driver     avg_surge  \\\n",
       "count            50000.000000          41878.000000  50000.000000   \n",
       "mean                 2.278200              4.601559      1.074764   \n",
       "std                  3.792684              0.617338      0.222336   \n",
       "min                  0.000000              1.000000      1.000000   \n",
       "25%                  0.000000              4.300000      1.000000   \n",
       "50%                  1.000000              4.900000      1.000000   \n",
       "75%                  3.000000              5.000000      1.050000   \n",
       "max                125.000000              5.000000      8.000000   \n",
       "\n",
       "          surge_pct   weekday_pct      avg_dist  avg_rating_by_driver  \n",
       "count  50000.000000  50000.000000  50000.000000          49799.000000  \n",
       "mean       8.849536     60.926084      5.796827              4.778158  \n",
       "std       19.958811     37.081503      5.707357              0.446652  \n",
       "min        0.000000      0.000000      0.000000              1.000000  \n",
       "25%        0.000000     33.300000      2.420000              4.700000  \n",
       "50%        0.000000     66.700000      3.880000              5.000000  \n",
       "75%        8.600000    100.000000      6.940000              5.000000  \n",
       "max      100.000000    100.000000    160.960000              5.000000  "
      ]
     },
     "execution_count": 370,
     "metadata": {},
     "output_type": "execute_result"
    }
   ],
   "source": [
    "# Get descriptive statistics\n",
    "data.describe()"
   ]
  },
  {
   "cell_type": "markdown",
   "metadata": {},
   "source": [
    "Check For Missing Values"
   ]
  },
  {
   "cell_type": "code",
   "execution_count": 371,
   "metadata": {},
   "outputs": [
    {
     "data": {
      "text/plain": [
       "city                         0\n",
       "trips_in_first_30_days       0\n",
       "signup_date                  0\n",
       "avg_rating_of_driver      8122\n",
       "avg_surge                    0\n",
       "last_trip_date               0\n",
       "phone                      396\n",
       "surge_pct                    0\n",
       "ultimate_black_user          0\n",
       "weekday_pct                  0\n",
       "avg_dist                     0\n",
       "avg_rating_by_driver       201\n",
       "dtype: int64"
      ]
     },
     "execution_count": 371,
     "metadata": {},
     "output_type": "execute_result"
    }
   ],
   "source": [
    "# Check for null values\n",
    "data.isnull().sum()"
   ]
  },
  {
   "cell_type": "code",
   "execution_count": 372,
   "metadata": {},
   "outputs": [
    {
     "data": {
      "text/plain": [
       "17.11"
      ]
     },
     "execution_count": 372,
     "metadata": {},
     "output_type": "execute_result"
    }
   ],
   "source": [
    "# Handle missing data for driver ratings\n",
    "mask = data.avg_rating_of_driver.isnull() | data.avg_rating_by_driver.isnull() | data.phone.isnull()\n",
    "missing_rows = data[mask].shape[0]\n",
    "\n",
    "# Check percentage of missing rows \n",
    "pct_missing = missing_rows / data.shape[0] * 100\n",
    "pct_missing"
   ]
  },
  {
   "cell_type": "markdown",
   "metadata": {},
   "source": [
    "Handle Missing Values"
   ]
  },
  {
   "cell_type": "code",
   "execution_count": 373,
   "metadata": {},
   "outputs": [],
   "source": [
    "# Fill missing phone values with None\n",
    "data['phone'] = data['phone'].fillna('None')"
   ]
  },
  {
   "cell_type": "code",
   "execution_count": 374,
   "metadata": {},
   "outputs": [
    {
     "data": {
      "text/plain": [
       "city                      0\n",
       "trips_in_first_30_days    0\n",
       "signup_date               0\n",
       "avg_rating_of_driver      0\n",
       "avg_surge                 0\n",
       "last_trip_date            0\n",
       "phone                     0\n",
       "surge_pct                 0\n",
       "ultimate_black_user       0\n",
       "weekday_pct               0\n",
       "avg_dist                  0\n",
       "avg_rating_by_driver      0\n",
       "dtype: int64"
      ]
     },
     "execution_count": 374,
     "metadata": {},
     "output_type": "execute_result"
    }
   ],
   "source": [
    "# Replace missing values with 0 for numeric cols\n",
    "data = data.fillna(0)\n",
    "data.isna().sum()"
   ]
  },
  {
   "cell_type": "markdown",
   "metadata": {},
   "source": [
    "#### Explore Categorical Features"
   ]
  },
  {
   "cell_type": "code",
   "execution_count": 375,
   "metadata": {},
   "outputs": [
    {
     "data": {
      "text/html": [
       "<div>\n",
       "<style scoped>\n",
       "    .dataframe tbody tr th:only-of-type {\n",
       "        vertical-align: middle;\n",
       "    }\n",
       "\n",
       "    .dataframe tbody tr th {\n",
       "        vertical-align: top;\n",
       "    }\n",
       "\n",
       "    .dataframe thead th {\n",
       "        text-align: right;\n",
       "    }\n",
       "</style>\n",
       "<table border=\"1\" class=\"dataframe\">\n",
       "  <thead>\n",
       "    <tr style=\"text-align: right;\">\n",
       "      <th></th>\n",
       "      <th>city</th>\n",
       "      <th>signup_date</th>\n",
       "      <th>last_trip_date</th>\n",
       "      <th>phone</th>\n",
       "    </tr>\n",
       "  </thead>\n",
       "  <tbody>\n",
       "    <tr>\n",
       "      <th>0</th>\n",
       "      <td>King's Landing</td>\n",
       "      <td>2014-01-25</td>\n",
       "      <td>2014-06-17</td>\n",
       "      <td>iPhone</td>\n",
       "    </tr>\n",
       "    <tr>\n",
       "      <th>1</th>\n",
       "      <td>Astapor</td>\n",
       "      <td>2014-01-29</td>\n",
       "      <td>2014-05-05</td>\n",
       "      <td>Android</td>\n",
       "    </tr>\n",
       "    <tr>\n",
       "      <th>2</th>\n",
       "      <td>Astapor</td>\n",
       "      <td>2014-01-06</td>\n",
       "      <td>2014-01-07</td>\n",
       "      <td>iPhone</td>\n",
       "    </tr>\n",
       "    <tr>\n",
       "      <th>3</th>\n",
       "      <td>King's Landing</td>\n",
       "      <td>2014-01-10</td>\n",
       "      <td>2014-06-29</td>\n",
       "      <td>iPhone</td>\n",
       "    </tr>\n",
       "    <tr>\n",
       "      <th>4</th>\n",
       "      <td>Winterfell</td>\n",
       "      <td>2014-01-27</td>\n",
       "      <td>2014-03-15</td>\n",
       "      <td>Android</td>\n",
       "    </tr>\n",
       "  </tbody>\n",
       "</table>\n",
       "</div>"
      ],
      "text/plain": [
       "             city signup_date last_trip_date    phone\n",
       "0  King's Landing  2014-01-25     2014-06-17   iPhone\n",
       "1         Astapor  2014-01-29     2014-05-05  Android\n",
       "2         Astapor  2014-01-06     2014-01-07   iPhone\n",
       "3  King's Landing  2014-01-10     2014-06-29   iPhone\n",
       "4      Winterfell  2014-01-27     2014-03-15  Android"
      ]
     },
     "execution_count": 375,
     "metadata": {},
     "output_type": "execute_result"
    }
   ],
   "source": [
    "# Analyze categorical data\n",
    "categorical_features = data.select_dtypes('object')\n",
    "categorical_features.head()"
   ]
  },
  {
   "cell_type": "code",
   "execution_count": 376,
   "metadata": {},
   "outputs": [
    {
     "data": {
      "text/plain": [
       "city              object\n",
       "signup_date       object\n",
       "last_trip_date    object\n",
       "phone             object\n",
       "dtype: object"
      ]
     },
     "execution_count": 376,
     "metadata": {},
     "output_type": "execute_result"
    }
   ],
   "source": [
    "categorical_features.dtypes"
   ]
  },
  {
   "cell_type": "code",
   "execution_count": 377,
   "metadata": {},
   "outputs": [
    {
     "data": {
      "image/png": "[encoded data removed]",
      "text/plain": [
       "<Figure size 500x500 with 1 Axes>"
      ]
     },
     "metadata": {},
     "output_type": "display_data"
    }
   ],
   "source": [
    "# Visualize counts for Phone\n",
    "phones = sns.catplot(data=data, x='phone', kind='count')\n",
    "phones.fig.suptitle('Count');"
   ]
  },
  {
   "cell_type": "code",
   "execution_count": 378,
   "metadata": {},
   "outputs": [
    {
     "data": {
      "image/png": "[encoded data removed]",
      "text/plain": [
       "<Figure size 500x500 with 1 Axes>"
      ]
     },
     "metadata": {},
     "output_type": "display_data"
    }
   ],
   "source": [
    "# Visualize Counts for City\n",
    "cities = sns.catplot(data=data, x='city', kind='count', \n",
    "                     order=['Winterfell', 'Astapor', \"King's Landing\"])\n",
    "cities.fig.suptitle('Users per City')\n",
    "plt.show()"
   ]
  },
  {
   "cell_type": "code",
   "execution_count": 379,
   "metadata": {},
   "outputs": [
    {
     "data": {
      "image/png": "[encoded data removed]",
      "text/plain": [
       "<Figure size 603.875x500 with 1 Axes>"
      ]
     },
     "metadata": {},
     "output_type": "display_data"
    }
   ],
   "source": [
    "# Plot phone users in each city\n",
    "phones_by_cities = sns.catplot(data=data, x='city', hue='phone', kind='count', \n",
    "                               order=['Winterfell', 'Astapor', \"King's Landing\"])\n",
    "phones_by_cities.fig.suptitle('Users per Cities by Phone Type')\n",
    "plt.show()"
   ]
  },
  {
   "cell_type": "markdown",
   "metadata": {},
   "source": [
    "From the plots, it seems that:\n",
    "* There are more Iphone users than Android users\n",
    "* There are more users in Winterfell > Astapor > King's Landing\n",
    "* And that trend follows for Iphone vs. Android users in the three cities"
   ]
  },
  {
   "cell_type": "code",
   "execution_count": 380,
   "metadata": {},
   "outputs": [
    {
     "name": "stdout",
     "output_type": "stream",
     "text": [
      "<class 'pandas.core.frame.DataFrame'>\n",
      "RangeIndex: 50000 entries, 0 to 49999\n",
      "Data columns (total 12 columns):\n",
      " #   Column                  Non-Null Count  Dtype         \n",
      "---  ------                  --------------  -----         \n",
      " 0   city                    50000 non-null  object        \n",
      " 1   trips_in_first_30_days  50000 non-null  int64         \n",
      " 2   signup_date             50000 non-null  datetime64[ns]\n",
      " 3   avg_rating_of_driver    50000 non-null  float64       \n",
      " 4   avg_surge               50000 non-null  float64       \n",
      " 5   last_trip_date          50000 non-null  datetime64[ns]\n",
      " 6   phone                   50000 non-null  object        \n",
      " 7   surge_pct               50000 non-null  float64       \n",
      " 8   ultimate_black_user     50000 non-null  bool          \n",
      " 9   weekday_pct             50000 non-null  float64       \n",
      " 10  avg_dist                50000 non-null  float64       \n",
      " 11  avg_rating_by_driver    50000 non-null  float64       \n",
      "dtypes: bool(1), datetime64[ns](2), float64(6), int64(1), object(2)\n",
      "memory usage: 4.2+ MB\n"
     ]
    }
   ],
   "source": [
    "# Convert dates to datetime objects\n",
    "data['signup_date'] = pd.to_datetime(data['signup_date'], format='%Y-%m-%d')\n",
    "data['last_trip_date'] = pd.to_datetime(data['last_trip_date'], format='%Y-%m-%d')\n",
    "data.info()\n"
   ]
  },
  {
   "cell_type": "markdown",
   "metadata": {},
   "source": [
    "Explore Numerical Features"
   ]
  },
  {
   "cell_type": "code",
   "execution_count": 381,
   "metadata": {},
   "outputs": [
    {
     "data": {
      "text/html": [
       "<div>\n",
       "<style scoped>\n",
       "    .dataframe tbody tr th:only-of-type {\n",
       "        vertical-align: middle;\n",
       "    }\n",
       "\n",
       "    .dataframe tbody tr th {\n",
       "        vertical-align: top;\n",
       "    }\n",
       "\n",
       "    .dataframe thead th {\n",
       "        text-align: right;\n",
       "    }\n",
       "</style>\n",
       "<table border=\"1\" class=\"dataframe\">\n",
       "  <thead>\n",
       "    <tr style=\"text-align: right;\">\n",
       "      <th></th>\n",
       "      <th>trips_in_first_30_days</th>\n",
       "      <th>avg_rating_of_driver</th>\n",
       "      <th>avg_surge</th>\n",
       "      <th>surge_pct</th>\n",
       "      <th>ultimate_black_user</th>\n",
       "      <th>weekday_pct</th>\n",
       "      <th>avg_dist</th>\n",
       "      <th>avg_rating_by_driver</th>\n",
       "    </tr>\n",
       "  </thead>\n",
       "  <tbody>\n",
       "    <tr>\n",
       "      <th>0</th>\n",
       "      <td>4</td>\n",
       "      <td>4.7</td>\n",
       "      <td>1.10</td>\n",
       "      <td>15.4</td>\n",
       "      <td>True</td>\n",
       "      <td>46.2</td>\n",
       "      <td>3.67</td>\n",
       "      <td>5.0</td>\n",
       "    </tr>\n",
       "    <tr>\n",
       "      <th>1</th>\n",
       "      <td>0</td>\n",
       "      <td>5.0</td>\n",
       "      <td>1.00</td>\n",
       "      <td>0.0</td>\n",
       "      <td>False</td>\n",
       "      <td>50.0</td>\n",
       "      <td>8.26</td>\n",
       "      <td>5.0</td>\n",
       "    </tr>\n",
       "    <tr>\n",
       "      <th>2</th>\n",
       "      <td>3</td>\n",
       "      <td>4.3</td>\n",
       "      <td>1.00</td>\n",
       "      <td>0.0</td>\n",
       "      <td>False</td>\n",
       "      <td>100.0</td>\n",
       "      <td>0.77</td>\n",
       "      <td>5.0</td>\n",
       "    </tr>\n",
       "    <tr>\n",
       "      <th>3</th>\n",
       "      <td>9</td>\n",
       "      <td>4.6</td>\n",
       "      <td>1.14</td>\n",
       "      <td>20.0</td>\n",
       "      <td>True</td>\n",
       "      <td>80.0</td>\n",
       "      <td>2.36</td>\n",
       "      <td>4.9</td>\n",
       "    </tr>\n",
       "    <tr>\n",
       "      <th>4</th>\n",
       "      <td>14</td>\n",
       "      <td>4.4</td>\n",
       "      <td>1.19</td>\n",
       "      <td>11.8</td>\n",
       "      <td>False</td>\n",
       "      <td>82.4</td>\n",
       "      <td>3.13</td>\n",
       "      <td>4.9</td>\n",
       "    </tr>\n",
       "  </tbody>\n",
       "</table>\n",
       "</div>"
      ],
      "text/plain": [
       "   trips_in_first_30_days  avg_rating_of_driver  avg_surge  surge_pct  \\\n",
       "0                       4                   4.7       1.10       15.4   \n",
       "1                       0                   5.0       1.00        0.0   \n",
       "2                       3                   4.3       1.00        0.0   \n",
       "3                       9                   4.6       1.14       20.0   \n",
       "4                      14                   4.4       1.19       11.8   \n",
       "\n",
       "   ultimate_black_user  weekday_pct  avg_dist  avg_rating_by_driver  \n",
       "0                 True         46.2      3.67                   5.0  \n",
       "1                False         50.0      8.26                   5.0  \n",
       "2                False        100.0      0.77                   5.0  \n",
       "3                 True         80.0      2.36                   4.9  \n",
       "4                False         82.4      3.13                   4.9  "
      ]
     },
     "execution_count": 381,
     "metadata": {},
     "output_type": "execute_result"
    }
   ],
   "source": [
    "numerical_features = data.select_dtypes(include=['number', 'bool'])\n",
    "numerical_features.head()"
   ]
  },
  {
   "cell_type": "code",
   "execution_count": 382,
   "metadata": {},
   "outputs": [
    {
     "name": "stdout",
     "output_type": "stream",
     "text": [
      "<class 'pandas.core.frame.DataFrame'>\n",
      "RangeIndex: 50000 entries, 0 to 49999\n",
      "Data columns (total 8 columns):\n",
      " #   Column                  Non-Null Count  Dtype  \n",
      "---  ------                  --------------  -----  \n",
      " 0   trips_in_first_30_days  50000 non-null  int64  \n",
      " 1   avg_rating_of_driver    50000 non-null  float64\n",
      " 2   avg_surge               50000 non-null  float64\n",
      " 3   surge_pct               50000 non-null  float64\n",
      " 4   ultimate_black_user     50000 non-null  bool   \n",
      " 5   weekday_pct             50000 non-null  float64\n",
      " 6   avg_dist                50000 non-null  float64\n",
      " 7   avg_rating_by_driver    50000 non-null  float64\n",
      "dtypes: bool(1), float64(6), int64(1)\n",
      "memory usage: 2.7 MB\n"
     ]
    }
   ],
   "source": [
    "numerical_features.info()"
   ]
  },
  {
   "cell_type": "code",
   "execution_count": 383,
   "metadata": {},
   "outputs": [],
   "source": [
    "def plot_hist(col, data=numerical_features):\n",
    "    data[col].hist(histtype='step', bins=20, grid=False, density=True)\n",
    "\n",
    "    plt.axvline(data[col].mean(), c='r', label='Mean')\n",
    "    plt.axvline(data[col].median(), c='g', linestyle=\"--\", label='Median')\n",
    "    plt.legend()\n"
   ]
  },
  {
   "cell_type": "code",
   "execution_count": 384,
   "metadata": {},
   "outputs": [
    {
     "data": {
      "text/html": [
       "<div>\n",
       "<style scoped>\n",
       "    .dataframe tbody tr th:only-of-type {\n",
       "        vertical-align: middle;\n",
       "    }\n",
       "\n",
       "    .dataframe tbody tr th {\n",
       "        vertical-align: top;\n",
       "    }\n",
       "\n",
       "    .dataframe thead th {\n",
       "        text-align: right;\n",
       "    }\n",
       "</style>\n",
       "<table border=\"1\" class=\"dataframe\">\n",
       "  <thead>\n",
       "    <tr style=\"text-align: right;\">\n",
       "      <th></th>\n",
       "      <th>trips_in_first_30_days</th>\n",
       "      <th>avg_rating_of_driver</th>\n",
       "      <th>avg_surge</th>\n",
       "      <th>surge_pct</th>\n",
       "      <th>weekday_pct</th>\n",
       "      <th>avg_dist</th>\n",
       "      <th>avg_rating_by_driver</th>\n",
       "    </tr>\n",
       "  </thead>\n",
       "  <tbody>\n",
       "    <tr>\n",
       "      <th>count</th>\n",
       "      <td>50000.000000</td>\n",
       "      <td>50000.000000</td>\n",
       "      <td>50000.000000</td>\n",
       "      <td>50000.000000</td>\n",
       "      <td>50000.000000</td>\n",
       "      <td>50000.000000</td>\n",
       "      <td>50000.000000</td>\n",
       "    </tr>\n",
       "    <tr>\n",
       "      <th>mean</th>\n",
       "      <td>2.278200</td>\n",
       "      <td>3.854082</td>\n",
       "      <td>1.074764</td>\n",
       "      <td>8.849536</td>\n",
       "      <td>60.926084</td>\n",
       "      <td>5.796827</td>\n",
       "      <td>4.758950</td>\n",
       "    </tr>\n",
       "    <tr>\n",
       "      <th>std</th>\n",
       "      <td>3.792684</td>\n",
       "      <td>1.788881</td>\n",
       "      <td>0.222336</td>\n",
       "      <td>19.958811</td>\n",
       "      <td>37.081503</td>\n",
       "      <td>5.707357</td>\n",
       "      <td>0.538617</td>\n",
       "    </tr>\n",
       "    <tr>\n",
       "      <th>min</th>\n",
       "      <td>0.000000</td>\n",
       "      <td>0.000000</td>\n",
       "      <td>1.000000</td>\n",
       "      <td>0.000000</td>\n",
       "      <td>0.000000</td>\n",
       "      <td>0.000000</td>\n",
       "      <td>0.000000</td>\n",
       "    </tr>\n",
       "    <tr>\n",
       "      <th>25%</th>\n",
       "      <td>0.000000</td>\n",
       "      <td>4.000000</td>\n",
       "      <td>1.000000</td>\n",
       "      <td>0.000000</td>\n",
       "      <td>33.300000</td>\n",
       "      <td>2.420000</td>\n",
       "      <td>4.700000</td>\n",
       "    </tr>\n",
       "    <tr>\n",
       "      <th>50%</th>\n",
       "      <td>1.000000</td>\n",
       "      <td>4.700000</td>\n",
       "      <td>1.000000</td>\n",
       "      <td>0.000000</td>\n",
       "      <td>66.700000</td>\n",
       "      <td>3.880000</td>\n",
       "      <td>5.000000</td>\n",
       "    </tr>\n",
       "    <tr>\n",
       "      <th>75%</th>\n",
       "      <td>3.000000</td>\n",
       "      <td>5.000000</td>\n",
       "      <td>1.050000</td>\n",
       "      <td>8.600000</td>\n",
       "      <td>100.000000</td>\n",
       "      <td>6.940000</td>\n",
       "      <td>5.000000</td>\n",
       "    </tr>\n",
       "    <tr>\n",
       "      <th>max</th>\n",
       "      <td>125.000000</td>\n",
       "      <td>5.000000</td>\n",
       "      <td>8.000000</td>\n",
       "      <td>100.000000</td>\n",
       "      <td>100.000000</td>\n",
       "      <td>160.960000</td>\n",
       "      <td>5.000000</td>\n",
       "    </tr>\n",
       "  </tbody>\n",
       "</table>\n",
       "</div>"
      ],
      "text/plain": [
       "       trips_in_first_30_days  avg_rating_of_driver     avg_surge  \\\n",
       "count            50000.000000          50000.000000  50000.000000   \n",
       "mean                 2.278200              3.854082      1.074764   \n",
       "std                  3.792684              1.788881      0.222336   \n",
       "min                  0.000000              0.000000      1.000000   \n",
       "25%                  0.000000              4.000000      1.000000   \n",
       "50%                  1.000000              4.700000      1.000000   \n",
       "75%                  3.000000              5.000000      1.050000   \n",
       "max                125.000000              5.000000      8.000000   \n",
       "\n",
       "          surge_pct   weekday_pct      avg_dist  avg_rating_by_driver  \n",
       "count  50000.000000  50000.000000  50000.000000          50000.000000  \n",
       "mean       8.849536     60.926084      5.796827              4.758950  \n",
       "std       19.958811     37.081503      5.707357              0.538617  \n",
       "min        0.000000      0.000000      0.000000              0.000000  \n",
       "25%        0.000000     33.300000      2.420000              4.700000  \n",
       "50%        0.000000     66.700000      3.880000              5.000000  \n",
       "75%        8.600000    100.000000      6.940000              5.000000  \n",
       "max      100.000000    100.000000    160.960000              5.000000  "
      ]
     },
     "execution_count": 384,
     "metadata": {},
     "output_type": "execute_result"
    }
   ],
   "source": [
    "numerical_features.describe()"
   ]
  },
  {
   "cell_type": "markdown",
   "metadata": {},
   "source": [
    "### Get Active and Inactive Users\n",
    "\n",
    "A user is considered active if they have taken in the last 30 days. An inactive user is one who hasn't taken a trip in the last 30 days."
   ]
  },
  {
   "cell_type": "code",
   "execution_count": 385,
   "metadata": {},
   "outputs": [
    {
     "data": {
      "text/html": [
       "<div>\n",
       "<style scoped>\n",
       "    .dataframe tbody tr th:only-of-type {\n",
       "        vertical-align: middle;\n",
       "    }\n",
       "\n",
       "    .dataframe tbody tr th {\n",
       "        vertical-align: top;\n",
       "    }\n",
       "\n",
       "    .dataframe thead th {\n",
       "        text-align: right;\n",
       "    }\n",
       "</style>\n",
       "<table border=\"1\" class=\"dataframe\">\n",
       "  <thead>\n",
       "    <tr style=\"text-align: right;\">\n",
       "      <th></th>\n",
       "      <th>city</th>\n",
       "      <th>trips_in_first_30_days</th>\n",
       "      <th>signup_date</th>\n",
       "      <th>avg_rating_of_driver</th>\n",
       "      <th>avg_surge</th>\n",
       "      <th>last_trip_date</th>\n",
       "      <th>phone</th>\n",
       "      <th>surge_pct</th>\n",
       "      <th>ultimate_black_user</th>\n",
       "      <th>weekday_pct</th>\n",
       "      <th>avg_dist</th>\n",
       "      <th>avg_rating_by_driver</th>\n",
       "    </tr>\n",
       "  </thead>\n",
       "  <tbody>\n",
       "    <tr>\n",
       "      <th>0</th>\n",
       "      <td>King's Landing</td>\n",
       "      <td>4</td>\n",
       "      <td>2014-01-25</td>\n",
       "      <td>4.7</td>\n",
       "      <td>1.10</td>\n",
       "      <td>2014-06-17</td>\n",
       "      <td>iPhone</td>\n",
       "      <td>15.4</td>\n",
       "      <td>True</td>\n",
       "      <td>46.2</td>\n",
       "      <td>3.67</td>\n",
       "      <td>5.0</td>\n",
       "    </tr>\n",
       "    <tr>\n",
       "      <th>1</th>\n",
       "      <td>Astapor</td>\n",
       "      <td>0</td>\n",
       "      <td>2014-01-29</td>\n",
       "      <td>5.0</td>\n",
       "      <td>1.00</td>\n",
       "      <td>2014-05-05</td>\n",
       "      <td>Android</td>\n",
       "      <td>0.0</td>\n",
       "      <td>False</td>\n",
       "      <td>50.0</td>\n",
       "      <td>8.26</td>\n",
       "      <td>5.0</td>\n",
       "    </tr>\n",
       "    <tr>\n",
       "      <th>2</th>\n",
       "      <td>Astapor</td>\n",
       "      <td>3</td>\n",
       "      <td>2014-01-06</td>\n",
       "      <td>4.3</td>\n",
       "      <td>1.00</td>\n",
       "      <td>2014-01-07</td>\n",
       "      <td>iPhone</td>\n",
       "      <td>0.0</td>\n",
       "      <td>False</td>\n",
       "      <td>100.0</td>\n",
       "      <td>0.77</td>\n",
       "      <td>5.0</td>\n",
       "    </tr>\n",
       "    <tr>\n",
       "      <th>3</th>\n",
       "      <td>King's Landing</td>\n",
       "      <td>9</td>\n",
       "      <td>2014-01-10</td>\n",
       "      <td>4.6</td>\n",
       "      <td>1.14</td>\n",
       "      <td>2014-06-29</td>\n",
       "      <td>iPhone</td>\n",
       "      <td>20.0</td>\n",
       "      <td>True</td>\n",
       "      <td>80.0</td>\n",
       "      <td>2.36</td>\n",
       "      <td>4.9</td>\n",
       "    </tr>\n",
       "    <tr>\n",
       "      <th>4</th>\n",
       "      <td>Winterfell</td>\n",
       "      <td>14</td>\n",
       "      <td>2014-01-27</td>\n",
       "      <td>4.4</td>\n",
       "      <td>1.19</td>\n",
       "      <td>2014-03-15</td>\n",
       "      <td>Android</td>\n",
       "      <td>11.8</td>\n",
       "      <td>False</td>\n",
       "      <td>82.4</td>\n",
       "      <td>3.13</td>\n",
       "      <td>4.9</td>\n",
       "    </tr>\n",
       "    <tr>\n",
       "      <th>...</th>\n",
       "      <td>...</td>\n",
       "      <td>...</td>\n",
       "      <td>...</td>\n",
       "      <td>...</td>\n",
       "      <td>...</td>\n",
       "      <td>...</td>\n",
       "      <td>...</td>\n",
       "      <td>...</td>\n",
       "      <td>...</td>\n",
       "      <td>...</td>\n",
       "      <td>...</td>\n",
       "      <td>...</td>\n",
       "    </tr>\n",
       "    <tr>\n",
       "      <th>49995</th>\n",
       "      <td>King's Landing</td>\n",
       "      <td>0</td>\n",
       "      <td>2014-01-25</td>\n",
       "      <td>5.0</td>\n",
       "      <td>1.00</td>\n",
       "      <td>2014-06-05</td>\n",
       "      <td>iPhone</td>\n",
       "      <td>0.0</td>\n",
       "      <td>False</td>\n",
       "      <td>100.0</td>\n",
       "      <td>5.63</td>\n",
       "      <td>4.2</td>\n",
       "    </tr>\n",
       "    <tr>\n",
       "      <th>49996</th>\n",
       "      <td>Astapor</td>\n",
       "      <td>1</td>\n",
       "      <td>2014-01-24</td>\n",
       "      <td>0.0</td>\n",
       "      <td>1.00</td>\n",
       "      <td>2014-01-25</td>\n",
       "      <td>iPhone</td>\n",
       "      <td>0.0</td>\n",
       "      <td>False</td>\n",
       "      <td>0.0</td>\n",
       "      <td>0.00</td>\n",
       "      <td>4.0</td>\n",
       "    </tr>\n",
       "    <tr>\n",
       "      <th>49997</th>\n",
       "      <td>Winterfell</td>\n",
       "      <td>0</td>\n",
       "      <td>2014-01-31</td>\n",
       "      <td>5.0</td>\n",
       "      <td>1.00</td>\n",
       "      <td>2014-05-22</td>\n",
       "      <td>Android</td>\n",
       "      <td>0.0</td>\n",
       "      <td>True</td>\n",
       "      <td>100.0</td>\n",
       "      <td>3.86</td>\n",
       "      <td>5.0</td>\n",
       "    </tr>\n",
       "    <tr>\n",
       "      <th>49998</th>\n",
       "      <td>Astapor</td>\n",
       "      <td>2</td>\n",
       "      <td>2014-01-14</td>\n",
       "      <td>3.0</td>\n",
       "      <td>1.00</td>\n",
       "      <td>2014-01-15</td>\n",
       "      <td>iPhone</td>\n",
       "      <td>0.0</td>\n",
       "      <td>False</td>\n",
       "      <td>100.0</td>\n",
       "      <td>4.58</td>\n",
       "      <td>3.5</td>\n",
       "    </tr>\n",
       "    <tr>\n",
       "      <th>49999</th>\n",
       "      <td>Astapor</td>\n",
       "      <td>0</td>\n",
       "      <td>2014-01-18</td>\n",
       "      <td>0.0</td>\n",
       "      <td>1.00</td>\n",
       "      <td>2014-04-20</td>\n",
       "      <td>Android</td>\n",
       "      <td>0.0</td>\n",
       "      <td>False</td>\n",
       "      <td>0.0</td>\n",
       "      <td>3.49</td>\n",
       "      <td>5.0</td>\n",
       "    </tr>\n",
       "  </tbody>\n",
       "</table>\n",
       "<p>47698 rows × 12 columns</p>\n",
       "</div>"
      ],
      "text/plain": [
       "                 city  trips_in_first_30_days signup_date  \\\n",
       "0      King's Landing                       4  2014-01-25   \n",
       "1             Astapor                       0  2014-01-29   \n",
       "2             Astapor                       3  2014-01-06   \n",
       "3      King's Landing                       9  2014-01-10   \n",
       "4          Winterfell                      14  2014-01-27   \n",
       "...               ...                     ...         ...   \n",
       "49995  King's Landing                       0  2014-01-25   \n",
       "49996         Astapor                       1  2014-01-24   \n",
       "49997      Winterfell                       0  2014-01-31   \n",
       "49998         Astapor                       2  2014-01-14   \n",
       "49999         Astapor                       0  2014-01-18   \n",
       "\n",
       "       avg_rating_of_driver  avg_surge last_trip_date    phone  surge_pct  \\\n",
       "0                       4.7       1.10     2014-06-17   iPhone       15.4   \n",
       "1                       5.0       1.00     2014-05-05  Android        0.0   \n",
       "2                       4.3       1.00     2014-01-07   iPhone        0.0   \n",
       "3                       4.6       1.14     2014-06-29   iPhone       20.0   \n",
       "4                       4.4       1.19     2014-03-15  Android       11.8   \n",
       "...                     ...        ...            ...      ...        ...   \n",
       "49995                   5.0       1.00     2014-06-05   iPhone        0.0   \n",
       "49996                   0.0       1.00     2014-01-25   iPhone        0.0   \n",
       "49997                   5.0       1.00     2014-05-22  Android        0.0   \n",
       "49998                   3.0       1.00     2014-01-15   iPhone        0.0   \n",
       "49999                   0.0       1.00     2014-04-20  Android        0.0   \n",
       "\n",
       "       ultimate_black_user  weekday_pct  avg_dist  avg_rating_by_driver  \n",
       "0                     True         46.2      3.67                   5.0  \n",
       "1                    False         50.0      8.26                   5.0  \n",
       "2                    False        100.0      0.77                   5.0  \n",
       "3                     True         80.0      2.36                   4.9  \n",
       "4                    False         82.4      3.13                   4.9  \n",
       "...                    ...          ...       ...                   ...  \n",
       "49995                False        100.0      5.63                   4.2  \n",
       "49996                False          0.0      0.00                   4.0  \n",
       "49997                 True        100.0      3.86                   5.0  \n",
       "49998                False        100.0      4.58                   3.5  \n",
       "49999                False          0.0      3.49                   5.0  \n",
       "\n",
       "[47698 rows x 12 columns]"
      ]
     },
     "execution_count": 385,
     "metadata": {},
     "output_type": "execute_result"
    }
   ],
   "source": [
    "data[data['signup_date'] != data['last_trip_date']]"
   ]
  },
  {
   "cell_type": "code",
   "execution_count": 386,
   "metadata": {},
   "outputs": [
    {
     "data": {
      "text/plain": [
       "0       2014-07-25\n",
       "1       2014-07-29\n",
       "2       2014-07-06\n",
       "3       2014-07-10\n",
       "4       2014-07-27\n",
       "           ...    \n",
       "49995   2014-07-25\n",
       "49996   2014-07-24\n",
       "49997   2014-07-31\n",
       "49998   2014-07-14\n",
       "49999   2014-07-18\n",
       "Name: six_months, Length: 50000, dtype: datetime64[ns]"
      ]
     },
     "execution_count": 386,
     "metadata": {},
     "output_type": "execute_result"
    }
   ],
   "source": [
    "data['six_months'] = data['signup_date'].apply(lambda x: pd.to_datetime('{}-07-{}'.format(x.year,x.day)))\n",
    "data.six_months"
   ]
  },
  {
   "cell_type": "code",
   "execution_count": 387,
   "metadata": {},
   "outputs": [
    {
     "data": {
      "text/html": [
       "<div>\n",
       "<style scoped>\n",
       "    .dataframe tbody tr th:only-of-type {\n",
       "        vertical-align: middle;\n",
       "    }\n",
       "\n",
       "    .dataframe tbody tr th {\n",
       "        vertical-align: top;\n",
       "    }\n",
       "\n",
       "    .dataframe thead th {\n",
       "        text-align: right;\n",
       "    }\n",
       "</style>\n",
       "<table border=\"1\" class=\"dataframe\">\n",
       "  <thead>\n",
       "    <tr style=\"text-align: right;\">\n",
       "      <th></th>\n",
       "      <th>city</th>\n",
       "      <th>trips_in_first_30_days</th>\n",
       "      <th>signup_date</th>\n",
       "      <th>avg_rating_of_driver</th>\n",
       "      <th>avg_surge</th>\n",
       "      <th>last_trip_date</th>\n",
       "      <th>phone</th>\n",
       "      <th>surge_pct</th>\n",
       "      <th>ultimate_black_user</th>\n",
       "      <th>weekday_pct</th>\n",
       "      <th>avg_dist</th>\n",
       "      <th>avg_rating_by_driver</th>\n",
       "      <th>six_months</th>\n",
       "    </tr>\n",
       "  </thead>\n",
       "  <tbody>\n",
       "    <tr>\n",
       "      <th>0</th>\n",
       "      <td>King's Landing</td>\n",
       "      <td>4</td>\n",
       "      <td>2014-01-25</td>\n",
       "      <td>4.7</td>\n",
       "      <td>1.10</td>\n",
       "      <td>2014-06-17</td>\n",
       "      <td>iPhone</td>\n",
       "      <td>15.4</td>\n",
       "      <td>True</td>\n",
       "      <td>46.2</td>\n",
       "      <td>3.67</td>\n",
       "      <td>5.0</td>\n",
       "      <td>2014-07-25</td>\n",
       "    </tr>\n",
       "    <tr>\n",
       "      <th>1</th>\n",
       "      <td>Astapor</td>\n",
       "      <td>0</td>\n",
       "      <td>2014-01-29</td>\n",
       "      <td>5.0</td>\n",
       "      <td>1.00</td>\n",
       "      <td>2014-05-05</td>\n",
       "      <td>Android</td>\n",
       "      <td>0.0</td>\n",
       "      <td>False</td>\n",
       "      <td>50.0</td>\n",
       "      <td>8.26</td>\n",
       "      <td>5.0</td>\n",
       "      <td>2014-07-29</td>\n",
       "    </tr>\n",
       "    <tr>\n",
       "      <th>2</th>\n",
       "      <td>Astapor</td>\n",
       "      <td>3</td>\n",
       "      <td>2014-01-06</td>\n",
       "      <td>4.3</td>\n",
       "      <td>1.00</td>\n",
       "      <td>2014-01-07</td>\n",
       "      <td>iPhone</td>\n",
       "      <td>0.0</td>\n",
       "      <td>False</td>\n",
       "      <td>100.0</td>\n",
       "      <td>0.77</td>\n",
       "      <td>5.0</td>\n",
       "      <td>2014-07-06</td>\n",
       "    </tr>\n",
       "    <tr>\n",
       "      <th>3</th>\n",
       "      <td>King's Landing</td>\n",
       "      <td>9</td>\n",
       "      <td>2014-01-10</td>\n",
       "      <td>4.6</td>\n",
       "      <td>1.14</td>\n",
       "      <td>2014-06-29</td>\n",
       "      <td>iPhone</td>\n",
       "      <td>20.0</td>\n",
       "      <td>True</td>\n",
       "      <td>80.0</td>\n",
       "      <td>2.36</td>\n",
       "      <td>4.9</td>\n",
       "      <td>2014-07-10</td>\n",
       "    </tr>\n",
       "    <tr>\n",
       "      <th>4</th>\n",
       "      <td>Winterfell</td>\n",
       "      <td>14</td>\n",
       "      <td>2014-01-27</td>\n",
       "      <td>4.4</td>\n",
       "      <td>1.19</td>\n",
       "      <td>2014-03-15</td>\n",
       "      <td>Android</td>\n",
       "      <td>11.8</td>\n",
       "      <td>False</td>\n",
       "      <td>82.4</td>\n",
       "      <td>3.13</td>\n",
       "      <td>4.9</td>\n",
       "      <td>2014-07-27</td>\n",
       "    </tr>\n",
       "  </tbody>\n",
       "</table>\n",
       "</div>"
      ],
      "text/plain": [
       "             city  trips_in_first_30_days signup_date  avg_rating_of_driver  \\\n",
       "0  King's Landing                       4  2014-01-25                   4.7   \n",
       "1         Astapor                       0  2014-01-29                   5.0   \n",
       "2         Astapor                       3  2014-01-06                   4.3   \n",
       "3  King's Landing                       9  2014-01-10                   4.6   \n",
       "4      Winterfell                      14  2014-01-27                   4.4   \n",
       "\n",
       "   avg_surge last_trip_date    phone  surge_pct  ultimate_black_user  \\\n",
       "0       1.10     2014-06-17   iPhone       15.4                 True   \n",
       "1       1.00     2014-05-05  Android        0.0                False   \n",
       "2       1.00     2014-01-07   iPhone        0.0                False   \n",
       "3       1.14     2014-06-29   iPhone       20.0                 True   \n",
       "4       1.19     2014-03-15  Android       11.8                False   \n",
       "\n",
       "   weekday_pct  avg_dist  avg_rating_by_driver six_months  \n",
       "0         46.2      3.67                   5.0 2014-07-25  \n",
       "1         50.0      8.26                   5.0 2014-07-29  \n",
       "2        100.0      0.77                   5.0 2014-07-06  \n",
       "3         80.0      2.36                   4.9 2014-07-10  \n",
       "4         82.4      3.13                   4.9 2014-07-27  "
      ]
     },
     "execution_count": 387,
     "metadata": {},
     "output_type": "execute_result"
    }
   ],
   "source": [
    "data.head()"
   ]
  },
  {
   "cell_type": "code",
   "execution_count": 388,
   "metadata": {},
   "outputs": [
    {
     "data": {
      "text/html": [
       "<div>\n",
       "<style scoped>\n",
       "    .dataframe tbody tr th:only-of-type {\n",
       "        vertical-align: middle;\n",
       "    }\n",
       "\n",
       "    .dataframe tbody tr th {\n",
       "        vertical-align: top;\n",
       "    }\n",
       "\n",
       "    .dataframe thead th {\n",
       "        text-align: right;\n",
       "    }\n",
       "</style>\n",
       "<table border=\"1\" class=\"dataframe\">\n",
       "  <thead>\n",
       "    <tr style=\"text-align: right;\">\n",
       "      <th></th>\n",
       "      <th>city</th>\n",
       "      <th>trips_in_first_30_days</th>\n",
       "      <th>signup_date</th>\n",
       "      <th>avg_rating_of_driver</th>\n",
       "      <th>avg_surge</th>\n",
       "      <th>last_trip_date</th>\n",
       "      <th>phone</th>\n",
       "      <th>surge_pct</th>\n",
       "      <th>ultimate_black_user</th>\n",
       "      <th>weekday_pct</th>\n",
       "      <th>avg_dist</th>\n",
       "      <th>avg_rating_by_driver</th>\n",
       "      <th>six_months</th>\n",
       "      <th>active</th>\n",
       "    </tr>\n",
       "  </thead>\n",
       "  <tbody>\n",
       "    <tr>\n",
       "      <th>3</th>\n",
       "      <td>King's Landing</td>\n",
       "      <td>9</td>\n",
       "      <td>2014-01-10</td>\n",
       "      <td>4.6</td>\n",
       "      <td>1.14</td>\n",
       "      <td>2014-06-29</td>\n",
       "      <td>iPhone</td>\n",
       "      <td>20.0</td>\n",
       "      <td>True</td>\n",
       "      <td>80.0</td>\n",
       "      <td>2.36</td>\n",
       "      <td>4.9</td>\n",
       "      <td>2014-07-10</td>\n",
       "      <td>True</td>\n",
       "    </tr>\n",
       "    <tr>\n",
       "      <th>16</th>\n",
       "      <td>King's Landing</td>\n",
       "      <td>1</td>\n",
       "      <td>2014-01-11</td>\n",
       "      <td>5.0</td>\n",
       "      <td>1.00</td>\n",
       "      <td>2014-06-28</td>\n",
       "      <td>Android</td>\n",
       "      <td>0.0</td>\n",
       "      <td>True</td>\n",
       "      <td>50.0</td>\n",
       "      <td>10.86</td>\n",
       "      <td>3.0</td>\n",
       "      <td>2014-07-11</td>\n",
       "      <td>True</td>\n",
       "    </tr>\n",
       "    <tr>\n",
       "      <th>17</th>\n",
       "      <td>King's Landing</td>\n",
       "      <td>0</td>\n",
       "      <td>2014-01-12</td>\n",
       "      <td>3.9</td>\n",
       "      <td>1.00</td>\n",
       "      <td>2014-07-01</td>\n",
       "      <td>iPhone</td>\n",
       "      <td>0.0</td>\n",
       "      <td>True</td>\n",
       "      <td>95.2</td>\n",
       "      <td>2.38</td>\n",
       "      <td>4.8</td>\n",
       "      <td>2014-07-12</td>\n",
       "      <td>True</td>\n",
       "    </tr>\n",
       "    <tr>\n",
       "      <th>19</th>\n",
       "      <td>King's Landing</td>\n",
       "      <td>0</td>\n",
       "      <td>2014-01-02</td>\n",
       "      <td>5.0</td>\n",
       "      <td>1.17</td>\n",
       "      <td>2014-06-03</td>\n",
       "      <td>iPhone</td>\n",
       "      <td>33.3</td>\n",
       "      <td>False</td>\n",
       "      <td>66.7</td>\n",
       "      <td>12.08</td>\n",
       "      <td>5.0</td>\n",
       "      <td>2014-07-02</td>\n",
       "      <td>True</td>\n",
       "    </tr>\n",
       "    <tr>\n",
       "      <th>32</th>\n",
       "      <td>Winterfell</td>\n",
       "      <td>1</td>\n",
       "      <td>2014-01-05</td>\n",
       "      <td>4.0</td>\n",
       "      <td>2.00</td>\n",
       "      <td>2014-06-10</td>\n",
       "      <td>iPhone</td>\n",
       "      <td>100.0</td>\n",
       "      <td>False</td>\n",
       "      <td>100.0</td>\n",
       "      <td>10.01</td>\n",
       "      <td>5.0</td>\n",
       "      <td>2014-07-05</td>\n",
       "      <td>True</td>\n",
       "    </tr>\n",
       "    <tr>\n",
       "      <th>...</th>\n",
       "      <td>...</td>\n",
       "      <td>...</td>\n",
       "      <td>...</td>\n",
       "      <td>...</td>\n",
       "      <td>...</td>\n",
       "      <td>...</td>\n",
       "      <td>...</td>\n",
       "      <td>...</td>\n",
       "      <td>...</td>\n",
       "      <td>...</td>\n",
       "      <td>...</td>\n",
       "      <td>...</td>\n",
       "      <td>...</td>\n",
       "      <td>...</td>\n",
       "    </tr>\n",
       "    <tr>\n",
       "      <th>49973</th>\n",
       "      <td>Astapor</td>\n",
       "      <td>2</td>\n",
       "      <td>2014-01-01</td>\n",
       "      <td>4.0</td>\n",
       "      <td>1.00</td>\n",
       "      <td>2014-06-28</td>\n",
       "      <td>iPhone</td>\n",
       "      <td>0.0</td>\n",
       "      <td>True</td>\n",
       "      <td>25.0</td>\n",
       "      <td>4.07</td>\n",
       "      <td>5.0</td>\n",
       "      <td>2014-07-01</td>\n",
       "      <td>True</td>\n",
       "    </tr>\n",
       "    <tr>\n",
       "      <th>49975</th>\n",
       "      <td>Winterfell</td>\n",
       "      <td>11</td>\n",
       "      <td>2014-01-11</td>\n",
       "      <td>3.9</td>\n",
       "      <td>1.03</td>\n",
       "      <td>2014-06-18</td>\n",
       "      <td>iPhone</td>\n",
       "      <td>4.1</td>\n",
       "      <td>False</td>\n",
       "      <td>91.8</td>\n",
       "      <td>2.18</td>\n",
       "      <td>4.8</td>\n",
       "      <td>2014-07-11</td>\n",
       "      <td>True</td>\n",
       "    </tr>\n",
       "    <tr>\n",
       "      <th>49976</th>\n",
       "      <td>King's Landing</td>\n",
       "      <td>0</td>\n",
       "      <td>2014-01-21</td>\n",
       "      <td>2.0</td>\n",
       "      <td>1.00</td>\n",
       "      <td>2014-07-01</td>\n",
       "      <td>iPhone</td>\n",
       "      <td>0.0</td>\n",
       "      <td>False</td>\n",
       "      <td>100.0</td>\n",
       "      <td>2.39</td>\n",
       "      <td>4.0</td>\n",
       "      <td>2014-07-21</td>\n",
       "      <td>True</td>\n",
       "    </tr>\n",
       "    <tr>\n",
       "      <th>49991</th>\n",
       "      <td>Winterfell</td>\n",
       "      <td>0</td>\n",
       "      <td>2014-01-08</td>\n",
       "      <td>5.0</td>\n",
       "      <td>1.25</td>\n",
       "      <td>2014-06-29</td>\n",
       "      <td>iPhone</td>\n",
       "      <td>100.0</td>\n",
       "      <td>False</td>\n",
       "      <td>0.0</td>\n",
       "      <td>1.06</td>\n",
       "      <td>5.0</td>\n",
       "      <td>2014-07-08</td>\n",
       "      <td>True</td>\n",
       "    </tr>\n",
       "    <tr>\n",
       "      <th>49993</th>\n",
       "      <td>Astapor</td>\n",
       "      <td>3</td>\n",
       "      <td>2014-01-03</td>\n",
       "      <td>4.8</td>\n",
       "      <td>1.11</td>\n",
       "      <td>2014-07-01</td>\n",
       "      <td>iPhone</td>\n",
       "      <td>11.1</td>\n",
       "      <td>True</td>\n",
       "      <td>55.6</td>\n",
       "      <td>2.53</td>\n",
       "      <td>4.7</td>\n",
       "      <td>2014-07-03</td>\n",
       "      <td>True</td>\n",
       "    </tr>\n",
       "  </tbody>\n",
       "</table>\n",
       "<p>11694 rows × 14 columns</p>\n",
       "</div>"
      ],
      "text/plain": [
       "                 city  trips_in_first_30_days signup_date  \\\n",
       "3      King's Landing                       9  2014-01-10   \n",
       "16     King's Landing                       1  2014-01-11   \n",
       "17     King's Landing                       0  2014-01-12   \n",
       "19     King's Landing                       0  2014-01-02   \n",
       "32         Winterfell                       1  2014-01-05   \n",
       "...               ...                     ...         ...   \n",
       "49973         Astapor                       2  2014-01-01   \n",
       "49975      Winterfell                      11  2014-01-11   \n",
       "49976  King's Landing                       0  2014-01-21   \n",
       "49991      Winterfell                       0  2014-01-08   \n",
       "49993         Astapor                       3  2014-01-03   \n",
       "\n",
       "       avg_rating_of_driver  avg_surge last_trip_date    phone  surge_pct  \\\n",
       "3                       4.6       1.14     2014-06-29   iPhone       20.0   \n",
       "16                      5.0       1.00     2014-06-28  Android        0.0   \n",
       "17                      3.9       1.00     2014-07-01   iPhone        0.0   \n",
       "19                      5.0       1.17     2014-06-03   iPhone       33.3   \n",
       "32                      4.0       2.00     2014-06-10   iPhone      100.0   \n",
       "...                     ...        ...            ...      ...        ...   \n",
       "49973                   4.0       1.00     2014-06-28   iPhone        0.0   \n",
       "49975                   3.9       1.03     2014-06-18   iPhone        4.1   \n",
       "49976                   2.0       1.00     2014-07-01   iPhone        0.0   \n",
       "49991                   5.0       1.25     2014-06-29   iPhone      100.0   \n",
       "49993                   4.8       1.11     2014-07-01   iPhone       11.1   \n",
       "\n",
       "       ultimate_black_user  weekday_pct  avg_dist  avg_rating_by_driver  \\\n",
       "3                     True         80.0      2.36                   4.9   \n",
       "16                    True         50.0     10.86                   3.0   \n",
       "17                    True         95.2      2.38                   4.8   \n",
       "19                   False         66.7     12.08                   5.0   \n",
       "32                   False        100.0     10.01                   5.0   \n",
       "...                    ...          ...       ...                   ...   \n",
       "49973                 True         25.0      4.07                   5.0   \n",
       "49975                False         91.8      2.18                   4.8   \n",
       "49976                False        100.0      2.39                   4.0   \n",
       "49991                False          0.0      1.06                   5.0   \n",
       "49993                 True         55.6      2.53                   4.7   \n",
       "\n",
       "      six_months  active  \n",
       "3     2014-07-10    True  \n",
       "16    2014-07-11    True  \n",
       "17    2014-07-12    True  \n",
       "19    2014-07-02    True  \n",
       "32    2014-07-05    True  \n",
       "...          ...     ...  \n",
       "49973 2014-07-01    True  \n",
       "49975 2014-07-11    True  \n",
       "49976 2014-07-21    True  \n",
       "49991 2014-07-08    True  \n",
       "49993 2014-07-03    True  \n",
       "\n",
       "[11694 rows x 14 columns]"
      ]
     },
     "execution_count": 388,
     "metadata": {},
     "output_type": "execute_result"
    }
   ],
   "source": [
    "\n",
    "# Find our target feature: Whether a user has taken a ride within 30 days after 6 months\n",
    "data['active'] = data['six_months'] - data['last_trip_date'] < pd.Timedelta('30 days')\n",
    "data[data.active == True]"
   ]
  },
  {
   "cell_type": "markdown",
   "metadata": {},
   "source": [
    "We have about ~11.6k users that meets our definition of an active user, wherein they took a trip in the preceeding 30 days of their 6th month using the ridesharing service."
   ]
  },
  {
   "cell_type": "code",
   "execution_count": 389,
   "metadata": {},
   "outputs": [],
   "source": [
    "# Map True values to 1 and False values to 0\n",
    "data['active'] = data['active'].replace([True, False], [1, 0])"
   ]
  },
  {
   "cell_type": "code",
   "execution_count": 390,
   "metadata": {},
   "outputs": [
    {
     "data": {
      "text/html": [
       "<div>\n",
       "<style scoped>\n",
       "    .dataframe tbody tr th:only-of-type {\n",
       "        vertical-align: middle;\n",
       "    }\n",
       "\n",
       "    .dataframe tbody tr th {\n",
       "        vertical-align: top;\n",
       "    }\n",
       "\n",
       "    .dataframe thead th {\n",
       "        text-align: right;\n",
       "    }\n",
       "</style>\n",
       "<table border=\"1\" class=\"dataframe\">\n",
       "  <thead>\n",
       "    <tr style=\"text-align: right;\">\n",
       "      <th></th>\n",
       "      <th>0</th>\n",
       "      <th>1</th>\n",
       "    </tr>\n",
       "  </thead>\n",
       "  <tbody>\n",
       "    <tr>\n",
       "      <th>active</th>\n",
       "      <td>0.76612</td>\n",
       "      <td>0.23388</td>\n",
       "    </tr>\n",
       "  </tbody>\n",
       "</table>\n",
       "</div>"
      ],
      "text/plain": [
       "              0        1\n",
       "active  0.76612  0.23388"
      ]
     },
     "execution_count": 390,
     "metadata": {},
     "output_type": "execute_result"
    }
   ],
   "source": [
    "# Get percentage of active users\n",
    "pd.DataFrame(data.active.value_counts(normalize=True)).T"
   ]
  },
  {
   "cell_type": "markdown",
   "metadata": {},
   "source": [
    "From the percentages above, we have about 23% of users that meet the definition of active, and 77% that don't."
   ]
  },
  {
   "cell_type": "markdown",
   "metadata": {},
   "source": [
    "### Feature Matrix and Target Labels"
   ]
  },
  {
   "cell_type": "code",
   "execution_count": 391,
   "metadata": {},
   "outputs": [],
   "source": [
    "X = data.drop('active', axis=1).select_dtypes(exclude=['datetime'])\n",
    "y = data.active"
   ]
  },
  {
   "cell_type": "code",
   "execution_count": 392,
   "metadata": {},
   "outputs": [
    {
     "data": {
      "text/plain": [
       "(50000, 10)"
      ]
     },
     "execution_count": 392,
     "metadata": {},
     "output_type": "execute_result"
    }
   ],
   "source": [
    "X.shape"
   ]
  },
  {
   "cell_type": "code",
   "execution_count": 393,
   "metadata": {},
   "outputs": [
    {
     "data": {
      "text/plain": [
       "(50000,)"
      ]
     },
     "execution_count": 393,
     "metadata": {},
     "output_type": "execute_result"
    }
   ],
   "source": [
    "y.shape"
   ]
  },
  {
   "cell_type": "markdown",
   "metadata": {},
   "source": [
    "Encode Categorical Variables"
   ]
  },
  {
   "cell_type": "code",
   "execution_count": 394,
   "metadata": {},
   "outputs": [],
   "source": [
    "X = pd.get_dummies(X)"
   ]
  },
  {
   "cell_type": "code",
   "execution_count": 395,
   "metadata": {},
   "outputs": [
    {
     "data": {
      "text/html": [
       "<div>\n",
       "<style scoped>\n",
       "    .dataframe tbody tr th:only-of-type {\n",
       "        vertical-align: middle;\n",
       "    }\n",
       "\n",
       "    .dataframe tbody tr th {\n",
       "        vertical-align: top;\n",
       "    }\n",
       "\n",
       "    .dataframe thead th {\n",
       "        text-align: right;\n",
       "    }\n",
       "</style>\n",
       "<table border=\"1\" class=\"dataframe\">\n",
       "  <thead>\n",
       "    <tr style=\"text-align: right;\">\n",
       "      <th></th>\n",
       "      <th>trips_in_first_30_days</th>\n",
       "      <th>avg_rating_of_driver</th>\n",
       "      <th>avg_surge</th>\n",
       "      <th>surge_pct</th>\n",
       "      <th>ultimate_black_user</th>\n",
       "      <th>weekday_pct</th>\n",
       "      <th>avg_dist</th>\n",
       "      <th>avg_rating_by_driver</th>\n",
       "      <th>city_Astapor</th>\n",
       "      <th>city_King's Landing</th>\n",
       "      <th>city_Winterfell</th>\n",
       "      <th>phone_Android</th>\n",
       "      <th>phone_None</th>\n",
       "      <th>phone_iPhone</th>\n",
       "    </tr>\n",
       "  </thead>\n",
       "  <tbody>\n",
       "    <tr>\n",
       "      <th>0</th>\n",
       "      <td>4</td>\n",
       "      <td>4.7</td>\n",
       "      <td>1.10</td>\n",
       "      <td>15.4</td>\n",
       "      <td>True</td>\n",
       "      <td>46.2</td>\n",
       "      <td>3.67</td>\n",
       "      <td>5.0</td>\n",
       "      <td>0</td>\n",
       "      <td>1</td>\n",
       "      <td>0</td>\n",
       "      <td>0</td>\n",
       "      <td>0</td>\n",
       "      <td>1</td>\n",
       "    </tr>\n",
       "    <tr>\n",
       "      <th>1</th>\n",
       "      <td>0</td>\n",
       "      <td>5.0</td>\n",
       "      <td>1.00</td>\n",
       "      <td>0.0</td>\n",
       "      <td>False</td>\n",
       "      <td>50.0</td>\n",
       "      <td>8.26</td>\n",
       "      <td>5.0</td>\n",
       "      <td>1</td>\n",
       "      <td>0</td>\n",
       "      <td>0</td>\n",
       "      <td>1</td>\n",
       "      <td>0</td>\n",
       "      <td>0</td>\n",
       "    </tr>\n",
       "    <tr>\n",
       "      <th>2</th>\n",
       "      <td>3</td>\n",
       "      <td>4.3</td>\n",
       "      <td>1.00</td>\n",
       "      <td>0.0</td>\n",
       "      <td>False</td>\n",
       "      <td>100.0</td>\n",
       "      <td>0.77</td>\n",
       "      <td>5.0</td>\n",
       "      <td>1</td>\n",
       "      <td>0</td>\n",
       "      <td>0</td>\n",
       "      <td>0</td>\n",
       "      <td>0</td>\n",
       "      <td>1</td>\n",
       "    </tr>\n",
       "    <tr>\n",
       "      <th>3</th>\n",
       "      <td>9</td>\n",
       "      <td>4.6</td>\n",
       "      <td>1.14</td>\n",
       "      <td>20.0</td>\n",
       "      <td>True</td>\n",
       "      <td>80.0</td>\n",
       "      <td>2.36</td>\n",
       "      <td>4.9</td>\n",
       "      <td>0</td>\n",
       "      <td>1</td>\n",
       "      <td>0</td>\n",
       "      <td>0</td>\n",
       "      <td>0</td>\n",
       "      <td>1</td>\n",
       "    </tr>\n",
       "    <tr>\n",
       "      <th>4</th>\n",
       "      <td>14</td>\n",
       "      <td>4.4</td>\n",
       "      <td>1.19</td>\n",
       "      <td>11.8</td>\n",
       "      <td>False</td>\n",
       "      <td>82.4</td>\n",
       "      <td>3.13</td>\n",
       "      <td>4.9</td>\n",
       "      <td>0</td>\n",
       "      <td>0</td>\n",
       "      <td>1</td>\n",
       "      <td>1</td>\n",
       "      <td>0</td>\n",
       "      <td>0</td>\n",
       "    </tr>\n",
       "  </tbody>\n",
       "</table>\n",
       "</div>"
      ],
      "text/plain": [
       "   trips_in_first_30_days  avg_rating_of_driver  avg_surge  surge_pct  \\\n",
       "0                       4                   4.7       1.10       15.4   \n",
       "1                       0                   5.0       1.00        0.0   \n",
       "2                       3                   4.3       1.00        0.0   \n",
       "3                       9                   4.6       1.14       20.0   \n",
       "4                      14                   4.4       1.19       11.8   \n",
       "\n",
       "   ultimate_black_user  weekday_pct  avg_dist  avg_rating_by_driver  \\\n",
       "0                 True         46.2      3.67                   5.0   \n",
       "1                False         50.0      8.26                   5.0   \n",
       "2                False        100.0      0.77                   5.0   \n",
       "3                 True         80.0      2.36                   4.9   \n",
       "4                False         82.4      3.13                   4.9   \n",
       "\n",
       "   city_Astapor  city_King's Landing  city_Winterfell  phone_Android  \\\n",
       "0             0                    1                0              0   \n",
       "1             1                    0                0              1   \n",
       "2             1                    0                0              0   \n",
       "3             0                    1                0              0   \n",
       "4             0                    0                1              1   \n",
       "\n",
       "   phone_None  phone_iPhone  \n",
       "0           0             1  \n",
       "1           0             0  \n",
       "2           0             1  \n",
       "3           0             1  \n",
       "4           0             0  "
      ]
     },
     "execution_count": 395,
     "metadata": {},
     "output_type": "execute_result"
    }
   ],
   "source": [
    "X.head()"
   ]
  },
  {
   "cell_type": "markdown",
   "metadata": {},
   "source": [
    "Perform Train/Test split"
   ]
  },
  {
   "cell_type": "code",
   "execution_count": 396,
   "metadata": {},
   "outputs": [],
   "source": [
    "X_train, X_test, y_train, y_test = train_test_split(X, y, test_size=0.3, stratify=y)"
   ]
  },
  {
   "cell_type": "code",
   "execution_count": 397,
   "metadata": {},
   "outputs": [
    {
     "data": {
      "text/plain": [
       "0    0.766114\n",
       "1    0.233886\n",
       "Name: active, dtype: float64"
      ]
     },
     "execution_count": 397,
     "metadata": {},
     "output_type": "execute_result"
    }
   ],
   "source": [
    "# Verify active user proportion preserved in train split\n",
    "y_train.value_counts(normalize=True).T"
   ]
  },
  {
   "cell_type": "code",
   "execution_count": 398,
   "metadata": {},
   "outputs": [
    {
     "data": {
      "text/plain": [
       "0    0.766133\n",
       "1    0.233867\n",
       "Name: active, dtype: float64"
      ]
     },
     "execution_count": 398,
     "metadata": {},
     "output_type": "execute_result"
    }
   ],
   "source": [
    "# verify active user proportion preserved in test split\n",
    "y_test.value_counts(normalize=True).T"
   ]
  },
  {
   "cell_type": "markdown",
   "metadata": {},
   "source": [
    "## Modeling"
   ]
  },
  {
   "cell_type": "code",
   "execution_count": 399,
   "metadata": {},
   "outputs": [],
   "source": [
    "# Normalize Numeric Cols\n",
    "\n",
    "# Step 1: Fit the scaler on the training set\n",
    "scaler = StandardScaler()\n",
    "scaler.fit(X_train.select_dtypes(exclude=['datetime']))\n",
    "\n",
    "# Step 2: Transform the training set\n",
    "X_train_scaled = scaler.transform(X_train.select_dtypes(exclude=['datetime']))\n",
    "\n",
    "# Step 3: Transform the test set using the same scaler\n",
    "X_test_scaled = scaler.transform(X_test.select_dtypes(exclude=['datetime']))"
   ]
  },
  {
   "cell_type": "code",
   "execution_count": 400,
   "metadata": {},
   "outputs": [
    {
     "data": {
      "text/plain": [
       "array([[-0.33370586,  0.64024352, -0.33234122, ..., -0.65692571,\n",
       "        -0.09092742,  0.66974292],\n",
       "       [-0.59446013,  0.64024352, -0.33234122, ...,  1.52224213,\n",
       "        -0.09092742, -1.49311021],\n",
       "       [-0.59446013,  0.64024352, -0.33234122, ..., -0.65692571,\n",
       "        -0.09092742,  0.66974292],\n",
       "       ...,\n",
       "       [ 1.49157401,  0.36152846,  0.24602596, ..., -0.65692571,\n",
       "        -0.09092742,  0.66974292],\n",
       "       [ 1.49157401,  0.64024352, -0.06540252, ...,  1.52224213,\n",
       "        -0.09092742, -1.49311021],\n",
       "       [ 0.44855694,  0.64024352, -0.33234122, ..., -0.65692571,\n",
       "        -0.09092742,  0.66974292]])"
      ]
     },
     "execution_count": 400,
     "metadata": {},
     "output_type": "execute_result"
    }
   ],
   "source": [
    "X_train_scaled"
   ]
  },
  {
   "cell_type": "markdown",
   "metadata": {},
   "source": [
    "## Model Selection and Training"
   ]
  },
  {
   "cell_type": "markdown",
   "metadata": {},
   "source": [
    "### Random Forest Classifier"
   ]
  },
  {
   "cell_type": "code",
   "execution_count": 401,
   "metadata": {},
   "outputs": [
    {
     "data": {
      "text/plain": [
       "RandomForestClassifier()"
      ]
     },
     "execution_count": 401,
     "metadata": {},
     "output_type": "execute_result"
    }
   ],
   "source": [
    "# baseline RF classifier\n",
    "from sklearn.ensemble import RandomForestClassifier\n",
    "\n",
    "rf = RandomForestClassifier()\n",
    "\n",
    "rf.fit(X_train_scaled, y_train)"
   ]
  },
  {
   "cell_type": "code",
   "execution_count": 402,
   "metadata": {},
   "outputs": [],
   "source": [
    "preds = rf.predict(X_test_scaled)"
   ]
  },
  {
   "cell_type": "code",
   "execution_count": 403,
   "metadata": {},
   "outputs": [
    {
     "name": "stdout",
     "output_type": "stream",
     "text": [
      "Metrics for Baseline RF Classifier: \n",
      "\n",
      "The accuracy score is: 0.7766666666666666\n",
      "The confusion matrix is: \n",
      " [[10226  1266]\n",
      " [ 2084  1424]])\n",
      "The AUC score is: 0.6478828561914668\n",
      "The recall score is: 0.40592930444697833\n"
     ]
    }
   ],
   "source": [
    "# Evaluate predictions\n",
    "from sklearn.metrics import accuracy_score, recall_score, confusion_matrix, roc_auc_score\n",
    "\n",
    "\n",
    "def get_metrics(y_preds, y_true=y_test):\n",
    "    '''Returns the accuracy, confusion matrix and recall scores as a tuple.'''\n",
    "    accuracy = accuracy_score(y_true, y_preds)\n",
    "    cm = confusion_matrix(y_true, y_preds)\n",
    "    recall = recall_score(y_true, y_preds)\n",
    "    auc = roc_auc_score(y_true, y_preds)\n",
    "\n",
    "    return (accuracy, cm, auc, recall)\n",
    "\n",
    "\n",
    "def print_metrics(y_preds, y_true=y_test):\n",
    "    accuracy, cm, auc, recall = get_metrics(y_preds)\n",
    "    print(f\"The accuracy score is: {accuracy}\")\n",
    "    print(f\"The confusion matrix is: \\n {cm})\")\n",
    "    print(f\"The AUC score is: {auc}\")\n",
    "    print(f\"The recall score is: {recall}\")\n",
    "\n",
    "print(\"Metrics for Baseline RF Classifier: \\n\")\n",
    "print_metrics(preds)"
   ]
  },
  {
   "cell_type": "markdown",
   "metadata": {},
   "source": [
    "Hyperparameter Tuning"
   ]
  },
  {
   "cell_type": "code",
   "execution_count": 404,
   "metadata": {},
   "outputs": [
    {
     "name": "stdout",
     "output_type": "stream",
     "text": [
      "{'max_depth': [10, 20, 30, 40, 50, 60, 70, 80, 90, 100, 110],\n",
      " 'max_features': ['auto', 'sqrt'],\n",
      " 'min_samples_leaf': [1, 2, 4],\n",
      " 'min_samples_split': [2, 5, 10],\n",
      " 'n_estimators': [200, 400, 600, 800, 1000, 1200, 1400, 1600, 1800, 2000]}\n"
     ]
    }
   ],
   "source": [
    "# Define parameter grid\n",
    "\n",
    "n_estimators = [int(x) for x in np.linspace(200, 2000, 10)]\n",
    "max_depth = [int(x) for x in np.linspace(10, 110, 11)]\n",
    "max_features = ['auto', 'sqrt']\n",
    "min_samples_split = [2, 5, 10]\n",
    "min_samples_leaf = [1, 2, 4]\n",
    "\n",
    "\n",
    "param_grid = {\n",
    "    'n_estimators': n_estimators,\n",
    "    'max_depth': max_depth,\n",
    "    'max_features': max_features,\n",
    "    'min_samples_split': min_samples_split,\n",
    "    'min_samples_leaf': min_samples_leaf,\n",
    "}\n",
    "\n",
    "pprint(param_grid)"
   ]
  },
  {
   "cell_type": "code",
   "execution_count": 405,
   "metadata": {},
   "outputs": [],
   "source": [
    "# Define Grid Search CV\n",
    "from sklearn.model_selection import RandomizedSearchCV\n",
    "\n",
    "cv = RandomizedSearchCV(estimator=rf, \n",
    "                  param_distributions=param_grid, \n",
    "                  cv=5,\n",
    "                  scoring='recall',\n",
    "                  n_jobs=-1,\n",
    "                  verbose=1)"
   ]
  },
  {
   "cell_type": "code",
   "execution_count": 406,
   "metadata": {},
   "outputs": [
    {
     "name": "stdout",
     "output_type": "stream",
     "text": [
      "Fitting 5 folds for each of 10 candidates, totalling 50 fits\n"
     ]
    },
    {
     "data": {
      "text/plain": [
       "RandomizedSearchCV(cv=5, estimator=RandomForestClassifier(), n_jobs=-1,\n",
       "                   param_distributions={'max_depth': [10, 20, 30, 40, 50, 60,\n",
       "                                                      70, 80, 90, 100, 110],\n",
       "                                        'max_features': ['auto', 'sqrt'],\n",
       "                                        'min_samples_leaf': [1, 2, 4],\n",
       "                                        'min_samples_split': [2, 5, 10],\n",
       "                                        'n_estimators': [200, 400, 600, 800,\n",
       "                                                         1000, 1200, 1400, 1600,\n",
       "                                                         1800, 2000]},\n",
       "                   scoring='recall', verbose=1)"
      ]
     },
     "execution_count": 406,
     "metadata": {},
     "output_type": "execute_result"
    }
   ],
   "source": [
    "# Fit training data\n",
    "cv.fit(X_train_scaled, y_train)"
   ]
  },
  {
   "cell_type": "code",
   "execution_count": 407,
   "metadata": {},
   "outputs": [
    {
     "name": "stdout",
     "output_type": "stream",
     "text": [
      "{'max_depth': 50,\n",
      " 'max_features': 'auto',\n",
      " 'min_samples_leaf': 1,\n",
      " 'min_samples_split': 2,\n",
      " 'n_estimators': 600}\n"
     ]
    }
   ],
   "source": [
    "# Get best model and params\n",
    "best_rf = cv.best_estimator_\n",
    "pprint(cv.best_params_)"
   ]
  },
  {
   "cell_type": "code",
   "execution_count": 408,
   "metadata": {},
   "outputs": [
    {
     "name": "stdout",
     "output_type": "stream",
     "text": [
      "The accuracy score is: 0.7777333333333334\n",
      "The confusion matrix is: \n",
      " [[10206  1286]\n",
      " [ 2048  1460]])\n",
      "The AUC score is: 0.652143814486385\n",
      "The recall score is: 0.4161915621436716\n"
     ]
    }
   ],
   "source": [
    "# Evaluate best classifier from CV\n",
    "best_preds = best_rf.predict(X_test_scaled)\n",
    "\n",
    "# Evaluate with same metrics\n",
    "rf_metrics = get_metrics(best_preds, y_test)\n",
    "print_metrics(best_preds)"
   ]
  },
  {
   "cell_type": "code",
   "execution_count": 409,
   "metadata": {},
   "outputs": [],
   "source": [
    "# Get feature importances\n",
    "\n",
    "def get_important_features(estimator, feature_matrix=X):\n",
    "    important_features = estimator.feature_importances_\n",
    "\n",
    "    # Get sorted indices of features\n",
    "    sorted_indices = important_features.argsort()\n",
    "\n",
    "    # Get feature names\n",
    "    feature_names = feature_matrix.columns\n",
    "\n",
    "    return (important_features, sorted_indices, feature_names)\n",
    "\n",
    "important_features, sorted_indices, feature_names = get_important_features(best_rf)"
   ]
  },
  {
   "cell_type": "code",
   "execution_count": 410,
   "metadata": {},
   "outputs": [],
   "source": [
    "# Get top 3 Features\n",
    "top_3_rf_features = feature_names[sorted_indices][::-1][:3].to_list()"
   ]
  },
  {
   "cell_type": "code",
   "execution_count": 411,
   "metadata": {},
   "outputs": [
    {
     "data": {
      "image/png": "[encoded data removed]",
      "text/plain": [
       "<Figure size 1000x600 with 1 Axes>"
      ]
     },
     "metadata": {},
     "output_type": "display_data"
    }
   ],
   "source": [
    "# Visualize Important Features\n",
    "# Plotting the feature importances\n",
    "plt.figure(figsize=(10, 6))\n",
    "plt.barh(range(len(sorted_indices)),\n",
    "         important_features[sorted_indices], align='center')\n",
    "plt.yticks(range(len(sorted_indices)), [\n",
    "           feature_names[i] for i in sorted_indices])\n",
    "plt.xlabel('Feature Importance')\n",
    "plt.ylabel('Feature')\n",
    "plt.title('Random Forest Feature Importances')\n",
    "plt.show()"
   ]
  },
  {
   "cell_type": "markdown",
   "metadata": {},
   "source": [
    "### Create Pipeline for LogReg Model"
   ]
  },
  {
   "cell_type": "code",
   "execution_count": 412,
   "metadata": {},
   "outputs": [],
   "source": [
    "from sklearn.pipeline import Pipeline\n",
    "from sklearn.linear_model import LogisticRegression\n",
    "\n",
    "steps = [\n",
    "    ('scaler', StandardScaler()), \n",
    "    ('LogReg', LogisticRegression())]\n",
    "\n",
    "pipeline = Pipeline(steps)"
   ]
  },
  {
   "cell_type": "markdown",
   "metadata": {},
   "source": [
    "### Baseline Logistic Regression Model"
   ]
  },
  {
   "cell_type": "code",
   "execution_count": 413,
   "metadata": {},
   "outputs": [
    {
     "name": "stdout",
     "output_type": "stream",
     "text": [
      "The accuracy score is: 0.7753333333333333\n",
      "The confusion matrix is: \n",
      " [[11035   457]\n",
      " [ 2913   595]])\n",
      "The AUC score is: 0.5649227602087775\n",
      "The recall score is: 0.16961231470923605\n"
     ]
    }
   ],
   "source": [
    "# Get BaseLine Logreg Model\n",
    "pipeline.fit(X_train, y_train)\n",
    "\n",
    "# predict values\n",
    "lr_preds = pipeline.predict(X_test)\n",
    "\n",
    "# Evaluate predictions\n",
    "print_metrics(lr_preds)"
   ]
  },
  {
   "cell_type": "markdown",
   "metadata": {},
   "source": [
    "Perform Hyperparam Tuning with Randomized CV"
   ]
  },
  {
   "cell_type": "code",
   "execution_count": 414,
   "metadata": {},
   "outputs": [
    {
     "name": "stdout",
     "output_type": "stream",
     "text": [
      "{'C': [0.001, 0.01, 0.1, 1, 10],\n",
      " 'max_iter': [100, 150, 200, 250, 300, 400, 500],\n",
      " 'penalty': ['l2'],\n",
      " 'solver': ['liblinear', 'newton-cg', 'saga', 'sag']}\n"
     ]
    }
   ],
   "source": [
    "lr = LogisticRegression()\n",
    "\n",
    "penalty = ['l2']\n",
    "C = [0.001, 0.01, 0.1, 1, 10]\n",
    "solver = ['liblinear', 'newton-cg', 'saga', 'sag']\n",
    "max_iter = [100, 150, 200, 250, 300, 400, 500]\n",
    "param_grid = {\n",
    "    'penalty': penalty,\n",
    "    'C': C,\n",
    "    'solver': solver,\n",
    "    'max_iter': max_iter\n",
    "}\n",
    "\n",
    "pprint(param_grid)"
   ]
  },
  {
   "cell_type": "code",
   "execution_count": 415,
   "metadata": {},
   "outputs": [
    {
     "name": "stdout",
     "output_type": "stream",
     "text": [
      "Fitting 5 folds for each of 10 candidates, totalling 50 fits\n"
     ]
    },
    {
     "data": {
      "text/plain": [
       "RandomizedSearchCV(cv=5, estimator=LogisticRegression(), n_jobs=-1,\n",
       "                   param_distributions={'C': [0.001, 0.01, 0.1, 1, 10],\n",
       "                                        'max_iter': [100, 150, 200, 250, 300,\n",
       "                                                     400, 500],\n",
       "                                        'penalty': ['l2'],\n",
       "                                        'solver': ['liblinear', 'newton-cg',\n",
       "                                                   'saga', 'sag']},\n",
       "                   scoring='recall', verbose=1)"
      ]
     },
     "execution_count": 415,
     "metadata": {},
     "output_type": "execute_result"
    }
   ],
   "source": [
    "# Perform Random CV\n",
    "\n",
    "lr_cv = RandomizedSearchCV(lr, \n",
    "                           param_distributions=param_grid, \n",
    "                           cv=5,\n",
    "                           scoring='recall',\n",
    "                           n_jobs=-1, \n",
    "                           verbose=1)\n",
    "\n",
    "lr_cv.fit(X_train_scaled, y_train)"
   ]
  },
  {
   "cell_type": "code",
   "execution_count": 416,
   "metadata": {},
   "outputs": [
    {
     "name": "stdout",
     "output_type": "stream",
     "text": [
      "The best parameters are: {'solver': 'liblinear', 'penalty': 'l2', 'max_iter': 150, 'C': 1}\n"
     ]
    }
   ],
   "source": [
    "# Find best model and params\n",
    "best_lr = lr_cv.best_estimator_\n",
    "\n",
    "print(f\"The best parameters are: {lr_cv.best_params_}\")"
   ]
  },
  {
   "cell_type": "code",
   "execution_count": 417,
   "metadata": {},
   "outputs": [
    {
     "name": "stdout",
     "output_type": "stream",
     "text": [
      "The accuracy score is: 0.6984\n",
      "The confusion matrix is: \n",
      " [[8980 2512]\n",
      " [2012 1496]])\n",
      "The AUC score is: 0.6039334884095664\n",
      "The recall score is: 0.4264538198403649\n"
     ]
    },
    {
     "name": "stderr",
     "output_type": "stream",
     "text": [
      "/Users/kylerodriguez/miniconda3/envs/employee-attrition/lib/python3.10/site-packages/sklearn/base.py:443: UserWarning: X has feature names, but LogisticRegression was fitted without feature names\n",
      "  warnings.warn(\n"
     ]
    }
   ],
   "source": [
    "# Evaluate Best Model\n",
    "best_preds = best_lr.predict(X_test)\n",
    "\n",
    "lr_metrics = get_metrics(best_preds)\n",
    "print_metrics(best_preds)"
   ]
  },
  {
   "cell_type": "code",
   "execution_count": 418,
   "metadata": {},
   "outputs": [],
   "source": [
    "# Get Important Features\n",
    "# Get feature names (assuming X is a DataFrame)\n",
    "feature_names = X.columns\n",
    "\n",
    "# Create a DataFrame with feature names and corresponding coefficients\n",
    "coef_df = pd.DataFrame(\n",
    "    {'Feature': feature_names, 'Coefficient': best_lr.coef_[0]})\n",
    "\n",
    "coef_df['AbsoluteCoefficient'] = np.abs(coef_df['Coefficient'])\n",
    "coef_df = coef_df.sort_values(by='AbsoluteCoefficient', ascending=True)"
   ]
  },
  {
   "cell_type": "code",
   "execution_count": 419,
   "metadata": {},
   "outputs": [],
   "source": [
    "# Get top 3 Feature Names\n",
    "top_3_lr_features = coef_df[::-1][:3].drop('Coefficient', axis=1)['Feature'].to_list()"
   ]
  },
  {
   "cell_type": "code",
   "execution_count": 420,
   "metadata": {},
   "outputs": [
    {
     "data": {
      "image/png": "[encoded data removed]",
      "text/plain": [
       "<Figure size 1000x600 with 1 Axes>"
      ]
     },
     "metadata": {},
     "output_type": "display_data"
    }
   ],
   "source": [
    "# Visualize Important Features\n",
    "plt.figure(figsize=(10, 6))\n",
    "plt.barh(coef_df['Feature'], coef_df['AbsoluteCoefficient'], color='teal')\n",
    "plt.xlabel('Coefficient Value')\n",
    "plt.title('Logistic Regression Coefficients')\n",
    "plt.show()"
   ]
  },
  {
   "cell_type": "markdown",
   "metadata": {},
   "source": [
    "### KNN Classifier"
   ]
  },
  {
   "cell_type": "code",
   "execution_count": 421,
   "metadata": {},
   "outputs": [],
   "source": [
    "# Baseline model\n",
    "from sklearn.neighbors import KNeighborsClassifier\n",
    "\n",
    "knn = KNeighborsClassifier()\n",
    "\n",
    "knn.fit(X_train_scaled, y_train)\n",
    "\n",
    "knn_preds = knn.predict(X_test_scaled)"
   ]
  },
  {
   "cell_type": "code",
   "execution_count": 422,
   "metadata": {},
   "outputs": [
    {
     "name": "stdout",
     "output_type": "stream",
     "text": [
      "The accuracy score is: 0.7704\n",
      "The confusion matrix is: \n",
      " [[10137  1355]\n",
      " [ 2089  1419]])\n",
      "The AUC score is: 0.6432979404442176\n",
      "The recall score is: 0.40450399087799316\n"
     ]
    }
   ],
   "source": [
    "# Evaluate Model \n",
    "print_metrics(knn_preds)"
   ]
  },
  {
   "cell_type": "markdown",
   "metadata": {},
   "source": [
    "Hyperparam Tuning"
   ]
  },
  {
   "cell_type": "code",
   "execution_count": 423,
   "metadata": {},
   "outputs": [
    {
     "name": "stdout",
     "output_type": "stream",
     "text": [
      "Fitting 5 folds for each of 10 candidates, totalling 50 fits\n"
     ]
    },
    {
     "data": {
      "text/plain": [
       "RandomizedSearchCV(cv=5, estimator=KNeighborsClassifier(), n_jobs=-1,\n",
       "                   param_distributions=({'n_neighbors': [1, 3, 5, 7, 9],\n",
       "                                         'weights': ['uniform', 'distance']},),\n",
       "                   scoring='recall', verbose=1)"
      ]
     },
     "execution_count": 423,
     "metadata": {},
     "output_type": "execute_result"
    }
   ],
   "source": [
    "# Parameters\n",
    "grid = {\n",
    "    'n_neighbors': [1,3,5,7,9],\n",
    "    'weights':['uniform', 'distance']},\n",
    "\n",
    "knn_cv = RandomizedSearchCV(knn, \n",
    "                            param_distributions=grid, \n",
    "                            n_jobs=-1, \n",
    "                            verbose=1, \n",
    "                            cv=5, \n",
    "                            scoring='recall')\n",
    "\n",
    "knn_cv.fit(X_train_scaled, y_train)"
   ]
  },
  {
   "cell_type": "code",
   "execution_count": 424,
   "metadata": {},
   "outputs": [
    {
     "name": "stdout",
     "output_type": "stream",
     "text": [
      "{'n_neighbors': 1, 'weights': 'uniform'}\n"
     ]
    }
   ],
   "source": [
    "# Get best model and params\n",
    "best_knn = knn_cv.best_estimator_\n",
    "\n",
    "knn_preds = best_knn.predict(X_test_scaled)\n",
    "pprint(knn_cv.best_params_)"
   ]
  },
  {
   "cell_type": "code",
   "execution_count": 425,
   "metadata": {},
   "outputs": [
    {
     "name": "stdout",
     "output_type": "stream",
     "text": [
      "The accuracy score is: 0.7254\n",
      "The confusion matrix is: \n",
      " [[9398 2094]\n",
      " [2025 1483]])\n",
      "The AUC score is: 0.6202671453365407\n",
      "The recall score is: 0.4227480045610034\n"
     ]
    }
   ],
   "source": [
    "# Evaluate metrics\n",
    "\n",
    "knn_metrics = get_metrics(knn_preds)\n",
    "print_metrics(knn_preds)"
   ]
  },
  {
   "cell_type": "code",
   "execution_count": 426,
   "metadata": {},
   "outputs": [],
   "source": [
    "# Get Important Features\n",
    "from sklearn.inspection import permutation_importance\n",
    "\n",
    "# Calculate permutation importance\n",
    "perm_importance = permutation_importance(best_knn, \n",
    "                                         X_test_scaled, \n",
    "                                         y_test, \n",
    "                                         n_repeats=30)"
   ]
  },
  {
   "cell_type": "code",
   "execution_count": 427,
   "metadata": {},
   "outputs": [
    {
     "data": {
      "image/png": "[encoded data removed]",
      "text/plain": [
       "<Figure size 640x480 with 1 Axes>"
      ]
     },
     "metadata": {},
     "output_type": "display_data"
    }
   ],
   "source": [
    "# Visualize feature importances\n",
    "feature_names = X.columns\n",
    "sorted_idx = perm_importance.importances_mean.argsort()\n",
    "\n",
    "plt.barh(range(X.shape[1]), perm_importance.importances_mean[sorted_idx])\n",
    "plt.yticks(range(X.shape[1]), [feature_names[i] for i in sorted_idx])\n",
    "plt.xlabel('Permutation Importance')\n",
    "plt.show()"
   ]
  },
  {
   "cell_type": "code",
   "execution_count": 428,
   "metadata": {},
   "outputs": [
    {
     "data": {
      "text/plain": [
       "[{'feature': 'trips_in_first_30_days', 'idx': 0},\n",
       " {'feature': 'avg_rating_of_driver', 'idx': 1},\n",
       " {'feature': 'avg_surge', 'idx': 2},\n",
       " {'feature': 'surge_pct', 'idx': 3},\n",
       " {'feature': 'ultimate_black_user', 'idx': 4},\n",
       " {'feature': 'weekday_pct', 'idx': 5},\n",
       " {'feature': 'avg_dist', 'idx': 6},\n",
       " {'feature': 'avg_rating_by_driver', 'idx': 7},\n",
       " {'feature': 'city_Astapor', 'idx': 8},\n",
       " {'feature': \"city_King's Landing\", 'idx': 9},\n",
       " {'feature': 'city_Winterfell', 'idx': 10},\n",
       " {'feature': 'phone_Android', 'idx': 11},\n",
       " {'feature': 'phone_None', 'idx': 12},\n",
       " {'feature': 'phone_iPhone', 'idx': 13}]"
      ]
     },
     "execution_count": 428,
     "metadata": {},
     "output_type": "execute_result"
    }
   ],
   "source": [
    "# Get top 3 features\n",
    "knn_features = [{'feature': feature_names[i], 'idx': i} for i in sorted_idx]\n",
    "knn_features = sorted(knn_features, key= lambda x: x['idx'])\n",
    "knn_features"
   ]
  },
  {
   "cell_type": "code",
   "execution_count": 429,
   "metadata": {},
   "outputs": [],
   "source": [
    "features = [i['feature'] for i in knn_features]\n",
    "importances = [i['idx'] for i in knn_features] \n",
    "top_3_knn_features = pd.DataFrame(data={'features':feature_names, 'importances':importances})[:3]"
   ]
  },
  {
   "cell_type": "markdown",
   "metadata": {},
   "source": [
    "## Conclusion"
   ]
  },
  {
   "cell_type": "code",
   "execution_count": 430,
   "metadata": {},
   "outputs": [],
   "source": [
    "top_3_knn_features = top_3_knn_features['features'].to_list()"
   ]
  },
  {
   "cell_type": "code",
   "execution_count": 431,
   "metadata": {},
   "outputs": [
    {
     "data": {
      "text/plain": [
       "['trips_in_first_30_days', 'avg_rating_of_driver', 'avg_surge']"
      ]
     },
     "execution_count": 431,
     "metadata": {},
     "output_type": "execute_result"
    }
   ],
   "source": [
    "top_3_knn_features"
   ]
  },
  {
   "cell_type": "code",
   "execution_count": 435,
   "metadata": {},
   "outputs": [],
   "source": [
    "index = ['Random Forest', 'Logistic Regression', 'KNN']\n",
    "data = {\n",
    "    'accuracy score': [rf_metrics[0], lr_metrics[0], knn_metrics[0]],\n",
    "    'auc score': [rf_metrics[2], lr_metrics[2], knn_metrics[2]],\n",
    "    'recall score': [rf_metrics[3], lr_metrics[3], knn_metrics[3]],\n",
    "    'top feature': [top_3_rf_features[0], top_3_lr_features[0], top_3_knn_features[0]],\n",
    "    'second feature': [top_3_rf_features[1], top_3_lr_features[1], top_3_knn_features[1]],\n",
    "    'third feature': [top_3_rf_features[2], top_3_lr_features[2], top_3_knn_features[2]]\n",
    "}\n",
    "\n",
    "features_and_metrics_summary = pd.DataFrame(data=data, index=index)"
   ]
  },
  {
   "cell_type": "code",
   "execution_count": 437,
   "metadata": {},
   "outputs": [
    {
     "data": {
      "text/html": [
       "<div>\n",
       "<style scoped>\n",
       "    .dataframe tbody tr th:only-of-type {\n",
       "        vertical-align: middle;\n",
       "    }\n",
       "\n",
       "    .dataframe tbody tr th {\n",
       "        vertical-align: top;\n",
       "    }\n",
       "\n",
       "    .dataframe thead th {\n",
       "        text-align: right;\n",
       "    }\n",
       "</style>\n",
       "<table border=\"1\" class=\"dataframe\">\n",
       "  <thead>\n",
       "    <tr style=\"text-align: right;\">\n",
       "      <th></th>\n",
       "      <th>accuracy score</th>\n",
       "      <th>auc score</th>\n",
       "      <th>recall score</th>\n",
       "      <th>top feature</th>\n",
       "      <th>second feature</th>\n",
       "      <th>third feature</th>\n",
       "    </tr>\n",
       "  </thead>\n",
       "  <tbody>\n",
       "    <tr>\n",
       "      <th>Random Forest</th>\n",
       "      <td>0.777733</td>\n",
       "      <td>0.652144</td>\n",
       "      <td>0.416192</td>\n",
       "      <td>avg_dist</td>\n",
       "      <td>weekday_pct</td>\n",
       "      <td>avg_rating_by_driver</td>\n",
       "    </tr>\n",
       "    <tr>\n",
       "      <th>KNN</th>\n",
       "      <td>0.725400</td>\n",
       "      <td>0.620267</td>\n",
       "      <td>0.422748</td>\n",
       "      <td>trips_in_first_30_days</td>\n",
       "      <td>avg_rating_of_driver</td>\n",
       "      <td>avg_surge</td>\n",
       "    </tr>\n",
       "    <tr>\n",
       "      <th>Logistic Regression</th>\n",
       "      <td>0.698400</td>\n",
       "      <td>0.603933</td>\n",
       "      <td>0.426454</td>\n",
       "      <td>ultimate_black_user</td>\n",
       "      <td>trips_in_first_30_days</td>\n",
       "      <td>city_King's Landing</td>\n",
       "    </tr>\n",
       "  </tbody>\n",
       "</table>\n",
       "</div>"
      ],
      "text/plain": [
       "                     accuracy score  auc score  recall score  \\\n",
       "Random Forest              0.777733   0.652144      0.416192   \n",
       "KNN                        0.725400   0.620267      0.422748   \n",
       "Logistic Regression        0.698400   0.603933      0.426454   \n",
       "\n",
       "                                top feature          second feature  \\\n",
       "Random Forest                      avg_dist             weekday_pct   \n",
       "KNN                  trips_in_first_30_days    avg_rating_of_driver   \n",
       "Logistic Regression     ultimate_black_user  trips_in_first_30_days   \n",
       "\n",
       "                            third feature  \n",
       "Random Forest        avg_rating_by_driver  \n",
       "KNN                             avg_surge  \n",
       "Logistic Regression   city_King's Landing  "
      ]
     },
     "execution_count": 437,
     "metadata": {},
     "output_type": "execute_result"
    }
   ],
   "source": [
    "features_and_metrics_summary.sort_values(by='auc score', ascending=False)"
   ]
  },
  {
   "cell_type": "markdown",
   "metadata": {},
   "source": [
    "From the models tried, the best scoring model across all metrics is the Random Forest model which has an accuracy of 0.78, and AUC score of 0.65 and a recall score of about 0.42. \n",
    "\n",
    "It's top features included the number of trips taken in the first 30 days, the average rating of the driver and the average surge multiplier.\n",
    "\n",
    "Some further tuning and maybe a request for more data may help improve these scores."
   ]
  },
  {
   "cell_type": "markdown",
   "metadata": {},
   "source": []
  }
 ],
 "metadata": {
  "kernelspec": {
   "display_name": "employee-attrition",
   "language": "python",
   "name": "python3"
  },
  "language_info": {
   "codemirror_mode": {
    "name": "ipython",
    "version": 3
   },
   "file_extension": ".py",
   "mimetype": "text/x-python",
   "name": "python",
   "nbconvert_exporter": "python",
   "pygments_lexer": "ipython3",
   "version": "3.10.10"
  }
 },
 "nbformat": 4,
 "nbformat_minor": 2
}
