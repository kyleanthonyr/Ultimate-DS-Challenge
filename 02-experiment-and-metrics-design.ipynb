{
 "cells": [
  {
   "cell_type": "markdown",
   "metadata": {},
   "source": [
    "# 2. Experiments and Metrics Design"
   ]
  },
  {
   "cell_type": "markdown",
   "metadata": {},
   "source": [
    "### Key Measure of Success"
   ]
  },
  {
   "cell_type": "markdown",
   "metadata": {},
   "source": [
    "Since the goal of the experiment would be to increase driver partners present in both cities, a key measure of success would be a percentage increase in the number of drivers that regularly cross the toll bridge between Gotham and Metropolis.\n",
    "\n",
    "This measure of success works because it is directly measuring the behavior change the experiment aims to achieve -- encouraging driver partners to operate in both cities more regularly. Furtheremore, it provides a clear quantitative measure on the impact of the reimburesement policy, allowing the City managers to determine how effective the policy may or may not be."
   ]
  },
  {
   "cell_type": "markdown",
   "metadata": {},
   "source": [
    "### Practical Experiment Design"
   ]
  },
  {
   "cell_type": "markdown",
   "metadata": {},
   "source": [
    "A. Implementation"
   ]
  },
  {
   "cell_type": "markdown",
   "metadata": {},
   "source": [
    "In designing an experiment to measure the percentage change in number of drivers regularly crossing the toll bridge (and not just on the weekends) brought about through the refund policy, we would first need to determine a baseline for how frequent (or infrequent) drivers cross now. \n",
    "\n",
    "1. Determine a baseline **prior to policy implementation** by measuring the number of driver partners crossing the toll bridge over a given period of time ex. 1 month, 3 months, 6 months, etc.\n",
    "\n",
    "2. After a baseline has been established, we can then implement the refund policy, perhaps allowing for a short grace period to allow for initial upticks to level off to a more accurate baseline, and also allow for the policy change to be communicated to all drivers. (1 week)\n",
    "\n",
    "3. Finally, once the policy change has been implemented and communicated to all drivers in both cities, we can begin to measure again the number of drivers making the cross between the two cities regularly over the same period of time used to measure the baseline."
   ]
  },
  {
   "cell_type": "markdown",
   "metadata": {},
   "source": [
    "B. Statistical Test"
   ]
  },
  {
   "cell_type": "markdown",
   "metadata": {},
   "source": [
    "Since we will have two independent samples (the baseline before the policy and the measure after the policy), a t-test for independent samples would be an appropriate statistical test for measuring the significance of the observed changes. \n",
    "\n",
    "With the t-test, the null hypothesis would be that there is no change in the number of drivers crossing the toll regularly due to the policy change. The alternative hypotheis can state that the policy change does  lead to a significant increase in trips between cities by drivers."
   ]
  },
  {
   "cell_type": "markdown",
   "metadata": {},
   "source": [
    "C. Interpretation of Results"
   ]
  },
  {
   "cell_type": "markdown",
   "metadata": {},
   "source": [
    "If the t-test returns a p-value less than p=0.05, we can reject the null hypothesis for the alternative and claim that the refund policy does cause an increase in the number of drivers making trips between cities regularly, which was the intended goal. \n",
    "\n",
    "For further steps, the city managers can expand the refund policy to become a more permanent one, if this is the case. If the results were not statistically significant, we can explore additional incentives for changing the behavior as they intend.\n",
    "\n",
    "Some caveats to keep in mind for the city managers would be that seasonal variations or external factors might skew both baseline and experimental results, so an appropriate time should be chosen to minimize any such possibility. Additionally, driver feedback and qualitative data can provide deeper insights into any other underlying reasons for the change in behavior or experiences with the reimbursement policy. "
   ]
  },
  {
   "cell_type": "code",
   "execution_count": null,
   "metadata": {},
   "outputs": [],
   "source": []
  }
 ],
 "metadata": {
  "language_info": {
   "name": "python"
  }
 },
 "nbformat": 4,
 "nbformat_minor": 2
}
